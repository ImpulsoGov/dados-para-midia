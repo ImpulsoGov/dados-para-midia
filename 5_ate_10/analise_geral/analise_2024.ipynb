{
 "cells": [
  {
   "cell_type": "code",
   "execution_count": 1,
   "metadata": {},
   "outputs": [
    {
     "name": "stderr",
     "output_type": "stream",
     "text": [
      "/Users/juliasbardelatti/anaconda3/lib/python3.11/site-packages/pandas/core/arrays/masked.py:60: UserWarning: Pandas requires version '1.3.6' or newer of 'bottleneck' (version '1.3.5' currently installed).\n",
      "  from pandas.core import (\n"
     ]
    }
   ],
   "source": [
    "import pandas as pd\n",
    "import geopandas as gpd\n",
    "import folium\n",
    "import pandas as pd\n",
    "from branca.colormap import linear\n",
    "from DadosAbertosBrasil import ibge"
   ]
  },
  {
   "cell_type": "code",
   "execution_count": 2,
   "metadata": {},
   "outputs": [],
   "source": [
    "novos_nomes = ['regiao', 'codigo_uf', 'uf', 'codigo_ibge', 'municipio', \n",
    "               'qtd_magreza_acentuada', 'perc_magreza_acentuada',\n",
    "               'qtd_magreza', 'perc_magreza',\n",
    "               'qtd_eutrofia', 'perc_eutrofia',\n",
    "               'qtd_risco_sobrepeso', 'perc_risco_sobrepeso',\n",
    "               'qtd_sobrepeso', 'perc_sobrepeso',\n",
    "               'qtd_obesidade', 'perc_obesidade', 'total']"
   ]
  },
  {
   "cell_type": "code",
   "execution_count": 3,
   "metadata": {},
   "outputs": [],
   "source": [
    "df = pd.read_csv(\"2024.csv\", sep=\";\",names=novos_nomes)"
   ]
  },
  {
   "cell_type": "code",
   "execution_count": 4,
   "metadata": {},
   "outputs": [
    {
     "data": {
      "text/plain": [
       "array(['TOTAL ESTADO DISTRITO FEDERAL', 'TOTAL ESTADO GOIÁS',\n",
       "       'TOTAL ESTADO MATO GROSSO DO SUL', 'TOTAL ESTADO MATO GROSSO',\n",
       "       'TOTAL ESTADO ALAGOAS', 'TOTAL ESTADO BAHIA', 'TOTAL ESTADO CEARÁ',\n",
       "       'TOTAL ESTADO MARANHÃO', 'TOTAL ESTADO PARAÍBA',\n",
       "       'TOTAL ESTADO PERNAMBUCO', 'TOTAL ESTADO PIAUÍ',\n",
       "       'TOTAL ESTADO RIO GRANDE DO NORTE', 'TOTAL ESTADO SERGIPE',\n",
       "       'TOTAL ESTADO ACRE', 'TOTAL ESTADO AMAZONAS', 'TOTAL ESTADO AMAPÁ',\n",
       "       'TOTAL ESTADO PARÁ', 'TOTAL ESTADO RONDÔNIA',\n",
       "       'TOTAL ESTADO RORAIMA', 'TOTAL ESTADO TOCANTINS',\n",
       "       'TOTAL ESTADO ESPÍRITO SANTO', 'TOTAL ESTADO MINAS GERAIS',\n",
       "       'TOTAL ESTADO RIO DE JANEIRO', 'TOTAL ESTADO SÃO PAULO',\n",
       "       'TOTAL ESTADO PARANÁ', 'TOTAL ESTADO RIO GRANDE DO SUL',\n",
       "       'TOTAL ESTADO SANTA CATARINA'], dtype=object)"
      ]
     },
     "execution_count": 4,
     "metadata": {},
     "output_type": "execute_result"
    }
   ],
   "source": [
    "df_estado = df[df['regiao'].str.startswith(('TOTAL ESTADO'), na=False)]\n",
    "df_estado['regiao'].unique()"
   ]
  },
  {
   "cell_type": "code",
   "execution_count": 5,
   "metadata": {},
   "outputs": [
    {
     "name": "stderr",
     "output_type": "stream",
     "text": [
      "/var/folders/gy/cxx2_pv95ys52g0qvnjgcsqm0000gn/T/ipykernel_48087/3520176744.py:1: SettingWithCopyWarning: \n",
      "A value is trying to be set on a copy of a slice from a DataFrame.\n",
      "Try using .loc[row_indexer,col_indexer] = value instead\n",
      "\n",
      "See the caveats in the documentation: https://pandas.pydata.org/pandas-docs/stable/user_guide/indexing.html#returning-a-view-versus-a-copy\n",
      "  df_estado['NOME'] = df_estado['regiao'].str.replace('TOTAL ESTADO ', '').str.strip()\n"
     ]
    }
   ],
   "source": [
    "df_estado['NOME'] = df_estado['regiao'].str.replace('TOTAL ESTADO ', '').str.strip()\n"
   ]
  },
  {
   "cell_type": "code",
   "execution_count": 8,
   "metadata": {},
   "outputs": [],
   "source": [
    "base_codigos = pd.read_csv(\"estados.csv\")\n",
    "base_codigos['NOME'] = base_codigos['NOME'].str.upper()\n",
    "resultado = df_estado.merge(base_codigos, on='NOME', how='left')"
   ]
  },
  {
   "cell_type": "code",
   "execution_count": 9,
   "metadata": {},
   "outputs": [],
   "source": [
    "colunas_para_converter = ['perc_magreza_acentuada', 'perc_magreza', 'perc_eutrofia', 'perc_risco_sobrepeso', 'perc_sobrepeso', 'perc_obesidade'] \n",
    "\n",
    "for coluna in colunas_para_converter:\n",
    "    resultado[coluna] = resultado[coluna].str.replace('%', '', regex=False) \n",
    "    resultado[coluna] = pd.to_numeric(resultado[coluna], errors='coerce') \n",
    "    resultado[coluna] = resultado[coluna] / 100 \n"
   ]
  },
  {
   "cell_type": "code",
   "execution_count": 10,
   "metadata": {},
   "outputs": [],
   "source": [
    "resultado['excesso_de_peso'] = (resultado['perc_sobrepeso'] + resultado['perc_obesidade']) "
   ]
  },
  {
   "cell_type": "code",
   "execution_count": 11,
   "metadata": {},
   "outputs": [],
   "source": [
    "geojson_path = ibge.malha(\n",
    "         nivel = 'paises',\n",
    "         localidade = 'BR',\n",
    "         divisoes = 'uf',\n",
    "         formato = 'geojson'\n",
    "     )"
   ]
  },
  {
   "cell_type": "code",
   "execution_count": 13,
   "metadata": {},
   "outputs": [],
   "source": [
    "mapa = folium.Map(location=[-14.2350, -51.9253], zoom_start=4, tiles=None)\n",
    "colormap = linear.YlOrRd_09.scale(resultado[\"excesso_de_peso\"].min(), resultado[\"excesso_de_peso\"].max())\n",
    "colormap.caption = 'Taxa mortalidade câncer colo do útero (por 100.000 mulheres)'\n",
    "folium.Choropleth(\n",
    "    geo_data=geojson_path,\n",
    "    data=resultado,\n",
    "    columns=[\"COD\", \"excesso_de_peso\"],\n",
    "    key_on=\"feature.properties.codarea\",\n",
    "    fill_color=\"Blues\",\n",
    "    fill_opacity=0.7,\n",
    "    line_opacity=0.2,\n",
    "    legend_name=\"Taxa mortalidade câncer colo do útero (por 100.000 mulheres)\",\n",
    "    nan_fill_color=\"white\",\n",
    "    nan_fill_opacity=0.3\n",
    ").add_to(mapa)\n",
    "\n",
    "if isinstance(geojson_path, dict):\n",
    "    gdf = gpd.GeoDataFrame.from_features(geojson_path[\"features\"])\n",
    "else:\n",
    "    gdf = gpd.read_file(geojson_path)  \n",
    "\n",
    "gdf[\"codarea\"] = gdf[\"codarea\"].astype(int)\n",
    "\n",
    "for _, row in gdf.iterrows():\n",
    "    estado_codigo = row[\"codarea\"]\n",
    "    centroide = row.geometry.centroid  \n",
    "    excesso_de_peso = resultado.loc[resultado[\"COD\"] == estado_codigo, \"excesso_de_peso\"]\n",
    "    \n",
    "    if not excesso_de_peso.empty:\n",
    "        # Converter para percentual e arredondar sem casas decimais\n",
    "        excesso_de_peso = round(excesso_de_peso.values[0] * 100, 0)  \n",
    "\n",
    "        folium.Marker(\n",
    "    location=[centroide.y, centroide.x],\n",
    "    icon=folium.DivIcon(html=f\"\"\"\n",
    "        <div style=\"font-size: 12px; font-weight: bold; color: black; \n",
    "                    background-color: rgba(255, 255, 255, 0.8); \n",
    "                    padding: 5px 10px; border-radius: 8px; \n",
    "                    min-width: 50px; text-align: center;\">\n",
    "            {int(excesso_de_peso)}%\n",
    "        </div>\n",
    "    \"\"\")\n",
    ").add_to(mapa)\n",
    "        \n",
    "        # Adiciona um título ao mapa\n",
    "titulo_html = \"\"\"\n",
    "<div style=\"\n",
    "    position: fixed; \n",
    "    top: 10px; left: 50%; \n",
    "    transform: translateX(-50%);\n",
    "    z-index: 9999; \n",
    "    background-color: white; \n",
    "    padding: 10px; \n",
    "    border-radius: 8px;\n",
    "    font-size: 18px; \n",
    "    font-weight: bold;\n",
    "    box-shadow: 0 0 5px rgba(0,0,0,0.2);\n",
    "\">\n",
    "    Mapa do percentual de crianças de 5 até 10 anos com excesso de peso (2024)\n",
    "</div>\n",
    "\"\"\"\n",
    "mapa.get_root().html.add_child(folium.Element(titulo_html))\n",
    "\n",
    "colormap.add_to(mapa)\n",
    "mapa.get_root().html.add_child(folium.Element(\"\"\"\n",
    "    <style>\n",
    "        html, body {\n",
    "            background-color: white !important;\n",
    "            height: 100%;\n",
    "            margin: 0;\n",
    "        }\n",
    "        .folium-map { background: white; }\n",
    "        #map { height: 100%; }\n",
    "    </style>\n",
    "\"\"\"))\n",
    "\n",
    "mapa.save(\"teste.html\")"
   ]
  }
 ],
 "metadata": {
  "kernelspec": {
   "display_name": "base",
   "language": "python",
   "name": "python3"
  },
  "language_info": {
   "codemirror_mode": {
    "name": "ipython",
    "version": 3
   },
   "file_extension": ".py",
   "mimetype": "text/x-python",
   "name": "python",
   "nbconvert_exporter": "python",
   "pygments_lexer": "ipython3",
   "version": "3.11.4"
  }
 },
 "nbformat": 4,
 "nbformat_minor": 2
}
