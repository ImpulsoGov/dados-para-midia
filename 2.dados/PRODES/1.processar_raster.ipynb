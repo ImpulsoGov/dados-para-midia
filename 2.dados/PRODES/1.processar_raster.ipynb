{
  "cells": [
    {
      "cell_type": "code",
      "execution_count": null,
      "metadata": {
        "colab": {
          "base_uri": "https://localhost:8080/"
        },
        "id": "ugs-jb7BjB9N",
        "outputId": "f217bf80-383a-4110-de16-727b1abb4a46"
      },
      "outputs": [],
      "source": [
        "!pip install rasterio"
      ]
    },
    {
      "cell_type": "code",
      "execution_count": 1,
      "metadata": {
        "id": "GalwEueAi2vC"
      },
      "outputs": [],
      "source": [
        "import os\n",
        "import rasterio\n",
        "import numpy as np\n",
        "import geopandas as gpd\n",
        "from shapely.geometry import mapping\n",
        "from rasterio.mask import mask\n",
        "from rasterio.windows import Window\n",
        "from tqdm import tqdm\n",
        "import pandas as pd\n",
        "import geopandas as gpd\n",
        "from rasterio.warp import calculate_default_transform, reproject, Resampling"
      ]
    },
    {
      "cell_type": "code",
      "execution_count": null,
      "metadata": {
        "id": "tT957HOkoTxo"
      },
      "outputs": [],
      "source": [
        "tif_path = \"./prodes_amazonia_legal_2023.tif\"\n",
        "mask_path = \"./desmatamento_2023_mask.tif\"\n",
        "ano_interesse = 23\n",
        "\n",
        "with rasterio.open(tif_path) as src:\n",
        "    profile = src.profile\n",
        "    profile.update(\n",
        "        dtype=rasterio.uint16,\n",
        "        count=1,\n",
        "        compress='lzw',\n",
        "        nodata=255\n",
        "    )\n",
        "\n",
        "    with rasterio.open(mask_path, 'w', **profile) as dst:\n",
        "        width = src.width\n",
        "        height = src.height\n",
        "        bloco_tam = 1024\n",
        "\n",
        "        for y in range(0, height, bloco_tam):\n",
        "            for x in range(0, width, bloco_tam):\n",
        "                w = min(bloco_tam, width - x)\n",
        "                h = min(bloco_tam, height - y)\n",
        "                window = Window(x, y, w, h)\n",
        "\n",
        "                bloco = src.read(1, window=window)\n",
        "                mask_ano = np.where(bloco == ano_interesse, 1, 0).astype(np.uint16)\n",
        "\n",
        "                dst.write(mask_ano, 1, window=window)\n"
      ]
    },
    {
      "cell_type": "code",
      "execution_count": null,
      "metadata": {
        "colab": {
          "base_uri": "https://localhost:8080/"
        },
        "id": "NZcF7jkoi7Cd",
        "outputId": "d61a5594-7d53-4ec8-a72a-f2a86ebf6b41"
      },
      "outputs": [
        {
          "name": "stdout",
          "output_type": "stream",
          "text": [
            "Raster reprojetado para EPSG:5880!\n"
          ]
        }
      ],
      "source": [
        "shapefile = \"./ibge_malha_municipal/BR_Municipios_2024.shp\"\n",
        "raster_path = \"./desmatamento_2023_mask.tif\"\n",
        "raster_reproj = \"./desmatamento_2023_reproj_5880.tif\"\n",
        "\n",
        "dst_crs = \"EPSG:5880\"\n",
        "with rasterio.open(raster_path) as src:\n",
        "    transform, width, height = calculate_default_transform(\n",
        "        src.crs, dst_crs, src.width, src.height, *src.bounds)\n",
        "\n",
        "    kwargs = src.meta.copy()\n",
        "    kwargs.update({\n",
        "        'crs': dst_crs,\n",
        "        'transform': transform,\n",
        "        'width': width,\n",
        "        'height': height\n",
        "    })\n",
        "\n",
        "    with rasterio.open(raster_reproj, 'w', **kwargs) as dst:\n",
        "        for i in range(1, src.count + 1):\n",
        "            reproject(\n",
        "                source=rasterio.band(src, i),\n",
        "                destination=rasterio.band(dst, i),\n",
        "                src_transform=src.transform,\n",
        "                src_crs=src.crs,\n",
        "                dst_transform=transform,\n",
        "                dst_crs=dst_crs,\n",
        "                resampling=Resampling.nearest)\n"
      ]
    },
    {
      "cell_type": "code",
      "execution_count": null,
      "metadata": {
        "colab": {
          "base_uri": "https://localhost:8080/"
        },
        "id": "poENJE8Sa4db",
        "outputId": "29b8e7e2-5452-49b5-f9fd-5843d6a2f1a1"
      },
      "outputs": [
        {
          "name": "stdout",
          "output_type": "stream",
          "text": [
            "CRS: EPSG:5880\n",
            "Dimensões (altura, largura): 91608 112276\n",
            "Número de bandas: 1\n",
            "Resolução (m/pixel): (29.783034124460546, 29.783034124460546)\n",
            "Extensão (bounds): BoundingBox(left=2774617.9887131862, bottom=7890145.21942072, right=6118537.928071119, top=10618509.409494301)\n"
          ]
        }
      ],
      "source": [
        "import rasterio\n",
        "import numpy as np\n",
        "\n",
        "raster_reproj = \"./desmatamento_2023_reproj_5880.tif\"\n",
        "\n",
        "with rasterio.open(raster_reproj) as src:\n",
        "    print(\"CRS:\", src.crs)\n",
        "    print(\"Dimensões (altura, largura):\", src.height, src.width)\n",
        "    print(\"Número de bandas:\", src.count)\n",
        "    print(\"Resolução (m/pixel):\", src.res)\n",
        "    print(\"Extensão (bounds):\", src.bounds)\n",
        "\n",
        "    raster_data = src.read(1)\n",
        "\n",
        "    unique_vals = np.unique(raster_data)\n",
        "    print(\"Valores únicos:\", unique_vals[:20], \"...\")\n"
      ]
    },
    {
      "cell_type": "code",
      "execution_count": null,
      "metadata": {
        "colab": {
          "base_uri": "https://localhost:8080/"
        },
        "id": "FEOVH9bah7nF",
        "outputId": "1d9c6ee7-c4fe-440e-c0e2-d9fa1e52d9b8"
      },
      "outputs": [
        {
          "name": "stdout",
          "output_type": "stream",
          "text": [
            "Calculando desmatamento por município...\n"
          ]
        },
        {
          "name": "stderr",
          "output_type": "stream",
          "text": [
            "  4%|▍         | 36/809 [01:57<2:05:25,  9.74s/it]"
          ]
        },
        {
          "name": "stdout",
          "output_type": "stream",
          "text": [
            "Erro no município Afonso Cunha: Input shapes do not overlap raster.\n"
          ]
        },
        {
          "name": "stderr",
          "output_type": "stream",
          "text": [
            "  6%|▋         | 52/809 [02:58<1:04:24,  5.10s/it]"
          ]
        },
        {
          "name": "stdout",
          "output_type": "stream",
          "text": [
            "Erro no município Água Doce do Maranhão: Input shapes do not overlap raster.\n"
          ]
        },
        {
          "name": "stderr",
          "output_type": "stream",
          "text": [
            " 11%|█         | 88/809 [05:35<39:56,  3.32s/it]"
          ]
        },
        {
          "name": "stdout",
          "output_type": "stream",
          "text": [
            "Erro no município Santana do Maranhão: Input shapes do not overlap raster.\n"
          ]
        },
        {
          "name": "stderr",
          "output_type": "stream",
          "text": [
            " 12%|█▏        | 101/809 [05:50<10:20,  1.14it/s]"
          ]
        },
        {
          "name": "stdout",
          "output_type": "stream",
          "text": [
            "Erro no município Santo Amaro do Maranhão: Input shapes do not overlap raster.\n"
          ]
        },
        {
          "name": "stderr",
          "output_type": "stream",
          "text": [
            " 14%|█▍        | 115/809 [06:37<24:49,  2.15s/it]"
          ]
        },
        {
          "name": "stdout",
          "output_type": "stream",
          "text": [
            "Erro no município Caxias: Input shapes do not overlap raster.\n"
          ]
        },
        {
          "name": "stderr",
          "output_type": "stream",
          "text": [
            " 16%|█▌        | 130/809 [07:30<35:19,  3.12s/it]"
          ]
        },
        {
          "name": "stdout",
          "output_type": "stream",
          "text": [
            "Erro no município Barão de Grajaú: Input shapes do not overlap raster.\n"
          ]
        },
        {
          "name": "stderr",
          "output_type": "stream",
          "text": [
            " 17%|█▋        | 134/809 [07:34<20:27,  1.82s/it]"
          ]
        },
        {
          "name": "stdout",
          "output_type": "stream",
          "text": [
            "Erro no município Duque Bacelar: Input shapes do not overlap raster.\n"
          ]
        },
        {
          "name": "stderr",
          "output_type": "stream",
          "text": [
            " 26%|██▌       | 212/809 [12:59<57:17,  5.76s/it]  "
          ]
        },
        {
          "name": "stdout",
          "output_type": "stream",
          "text": [
            "Erro no município Tutóia: Input shapes do not overlap raster.\n"
          ]
        },
        {
          "name": "stderr",
          "output_type": "stream",
          "text": [
            " 29%|██▊       | 231/809 [13:32<15:13,  1.58s/it]"
          ]
        },
        {
          "name": "stdout",
          "output_type": "stream",
          "text": [
            "Erro no município Milagres do Maranhão: Input shapes do not overlap raster.\n"
          ]
        },
        {
          "name": "stderr",
          "output_type": "stream",
          "text": [
            " 37%|███▋      | 298/809 [18:20<33:31,  3.94s/it]"
          ]
        },
        {
          "name": "stdout",
          "output_type": "stream",
          "text": [
            "Erro no município Anapurus: Input shapes do not overlap raster.\n"
          ]
        },
        {
          "name": "stderr",
          "output_type": "stream",
          "text": [
            " 38%|███▊      | 309/809 [19:01<19:30,  2.34s/it]"
          ]
        },
        {
          "name": "stdout",
          "output_type": "stream",
          "text": [
            "Erro no município Urbano Santos: Input shapes do not overlap raster.\n"
          ]
        },
        {
          "name": "stderr",
          "output_type": "stream",
          "text": [
            " 53%|█████▎    | 425/809 [25:09<53:43,  8.40s/it]"
          ]
        },
        {
          "name": "stdout",
          "output_type": "stream",
          "text": [
            "Erro no município Mata Roma: Input shapes do not overlap raster.\n"
          ]
        },
        {
          "name": "stderr",
          "output_type": "stream",
          "text": [
            " 57%|█████▋    | 463/809 [27:52<15:23,  2.67s/it]"
          ]
        },
        {
          "name": "stdout",
          "output_type": "stream",
          "text": [
            "Erro no município São Bernardo: Input shapes do not overlap raster.\n"
          ]
        },
        {
          "name": "stderr",
          "output_type": "stream",
          "text": [
            " 60%|█████▉    | 483/809 [29:17<23:12,  4.27s/it]"
          ]
        },
        {
          "name": "stdout",
          "output_type": "stream",
          "text": [
            "Erro no município Coelho Neto: Input shapes do not overlap raster.\n"
          ]
        },
        {
          "name": "stderr",
          "output_type": "stream",
          "text": [
            "\r 60%|█████▉    | 485/809 [29:19<14:58,  2.77s/it]"
          ]
        },
        {
          "name": "stdout",
          "output_type": "stream",
          "text": [
            "Erro no município Sucupira do Riachão: Input shapes do not overlap raster.\n",
            "Erro no município Brejo: Input shapes do not overlap raster.\n"
          ]
        },
        {
          "name": "stderr",
          "output_type": "stream",
          "text": [
            " 64%|██████▎   | 515/809 [31:32<28:36,  5.84s/it]"
          ]
        },
        {
          "name": "stdout",
          "output_type": "stream",
          "text": [
            "Erro no município Parnarama: Input shapes do not overlap raster.\n"
          ]
        },
        {
          "name": "stderr",
          "output_type": "stream",
          "text": [
            " 66%|██████▌   | 534/809 [33:32<37:40,  8.22s/it]"
          ]
        },
        {
          "name": "stdout",
          "output_type": "stream",
          "text": [
            "Erro no município Barreirinhas: Input shapes do not overlap raster.\n"
          ]
        },
        {
          "name": "stderr",
          "output_type": "stream",
          "text": [
            "\r 66%|██████▋   | 536/809 [33:32<20:35,  4.53s/it]"
          ]
        },
        {
          "name": "stdout",
          "output_type": "stream",
          "text": [
            "Erro no município São João dos Patos: Input shapes do not overlap raster.\n"
          ]
        },
        {
          "name": "stderr",
          "output_type": "stream",
          "text": [
            " 68%|██████▊   | 548/809 [34:12<16:32,  3.80s/it]"
          ]
        },
        {
          "name": "stdout",
          "output_type": "stream",
          "text": [
            "Erro no município Belágua: Input shapes do not overlap raster.\n"
          ]
        },
        {
          "name": "stderr",
          "output_type": "stream",
          "text": [
            " 71%|███████   | 572/809 [35:14<20:13,  5.12s/it]"
          ]
        },
        {
          "name": "stdout",
          "output_type": "stream",
          "text": [
            "Erro no município Buriti: Input shapes do not overlap raster.\n"
          ]
        },
        {
          "name": "stderr",
          "output_type": "stream",
          "text": [
            " 75%|███████▍  | 604/809 [38:22<36:42, 10.74s/it]"
          ]
        },
        {
          "name": "stdout",
          "output_type": "stream",
          "text": [
            "Erro no município Matões: Input shapes do not overlap raster.\n"
          ]
        },
        {
          "name": "stderr",
          "output_type": "stream",
          "text": [
            " 76%|███████▋  | 617/809 [39:36<20:38,  6.45s/it]"
          ]
        },
        {
          "name": "stdout",
          "output_type": "stream",
          "text": [
            "Erro no município Aldeias Altas: Input shapes do not overlap raster.\n"
          ]
        },
        {
          "name": "stderr",
          "output_type": "stream",
          "text": [
            " 83%|████████▎ | 675/809 [43:12<03:20,  1.50s/it]"
          ]
        },
        {
          "name": "stdout",
          "output_type": "stream",
          "text": [
            "Erro no município São Benedito do Rio Preto: Input shapes do not overlap raster.\n"
          ]
        },
        {
          "name": "stderr",
          "output_type": "stream",
          "text": [
            "\r 84%|████████▎ | 677/809 [43:14<02:42,  1.23s/it]"
          ]
        },
        {
          "name": "stdout",
          "output_type": "stream",
          "text": [
            "Erro no município Paulino Neves: Input shapes do not overlap raster.\n"
          ]
        },
        {
          "name": "stderr",
          "output_type": "stream",
          "text": [
            " 86%|████████▌ | 696/809 [44:05<03:55,  2.08s/it]"
          ]
        },
        {
          "name": "stdout",
          "output_type": "stream",
          "text": [
            "Erro no município Chapadinha: Input shapes do not overlap raster.\n"
          ]
        },
        {
          "name": "stderr",
          "output_type": "stream",
          "text": [
            " 87%|████████▋ | 701/809 [44:22<04:06,  2.28s/it]"
          ]
        },
        {
          "name": "stdout",
          "output_type": "stream",
          "text": [
            "Erro no município Humberto de Campos: Input shapes do not overlap raster.\n"
          ]
        },
        {
          "name": "stderr",
          "output_type": "stream",
          "text": [
            " 88%|████████▊ | 711/809 [45:07<05:24,  3.31s/it]"
          ]
        },
        {
          "name": "stdout",
          "output_type": "stream",
          "text": [
            "Erro no município Timon: Input shapes do not overlap raster.\n"
          ]
        },
        {
          "name": "stderr",
          "output_type": "stream",
          "text": [
            " 88%|████████▊ | 715/809 [45:13<03:49,  2.44s/it]"
          ]
        },
        {
          "name": "stdout",
          "output_type": "stream",
          "text": [
            "Erro no município São Francisco do Maranhão: Input shapes do not overlap raster.\n"
          ]
        },
        {
          "name": "stderr",
          "output_type": "stream",
          "text": [
            " 89%|████████▉ | 724/809 [45:40<06:07,  4.32s/it]"
          ]
        },
        {
          "name": "stdout",
          "output_type": "stream",
          "text": [
            "Erro no município Magalhães de Almeida: Input shapes do not overlap raster.\n"
          ]
        },
        {
          "name": "stderr",
          "output_type": "stream",
          "text": [
            " 90%|█████████ | 729/809 [46:04<05:08,  3.86s/it]"
          ]
        },
        {
          "name": "stdout",
          "output_type": "stream",
          "text": [
            "Erro no município Primeira Cruz: Input shapes do not overlap raster.\n"
          ]
        },
        {
          "name": "stderr",
          "output_type": "stream",
          "text": [
            " 92%|█████████▏| 745/809 [47:22<03:40,  3.44s/it]"
          ]
        },
        {
          "name": "stdout",
          "output_type": "stream",
          "text": [
            "Erro no município Lagoa do Mato: Input shapes do not overlap raster.\n"
          ]
        },
        {
          "name": "stderr",
          "output_type": "stream",
          "text": [
            " 97%|█████████▋| 786/809 [49:22<00:36,  1.58s/it]"
          ]
        },
        {
          "name": "stdout",
          "output_type": "stream",
          "text": [
            "Erro no município Santa Quitéria do Maranhão: Input shapes do not overlap raster.\n"
          ]
        },
        {
          "name": "stderr",
          "output_type": "stream",
          "text": [
            " 98%|█████████▊| 790/809 [49:31<00:34,  1.81s/it]"
          ]
        },
        {
          "name": "stdout",
          "output_type": "stream",
          "text": [
            "Erro no município Araioses: Input shapes do not overlap raster.\n"
          ]
        },
        {
          "name": "stderr",
          "output_type": "stream",
          "text": [
            "100%|██████████| 809/809 [51:17<00:00,  3.80s/it]\n"
          ]
        },
        {
          "name": "stdout",
          "output_type": "stream",
          "text": [
            "✅ Cálculo finalizado! Resultado salvo em area_desmatada_por_municipio.csv\n"
          ]
        }
      ],
      "source": [
        "shapefile = \"./ibge_malha_municipal/BR_Municipios_2024.shp\"\n",
        "raster_reproj = \"./desmatamento_2023_reproj_5880.tif\"\n",
        "\n",
        "estados_amazonia_legal = ['AC', 'AP', 'AM', 'MA', 'MT', 'PA', 'RO', 'RR', 'TO']\n",
        "gdf = gpd.read_file(shapefile)\n",
        "gdf = gdf[gdf[\"SIGLA_UF\"].isin(estados_amazonia_legal)].copy()\n",
        "gdf = gdf.to_crs(\"EPSG:5880\")\n",
        "\n",
        "with rasterio.open(raster_reproj) as src:\n",
        "    pixel_area_m2 = abs(src.res[0] * src.res[1])\n",
        "    pixel_area_ha = pixel_area_m2 / 10_000\n",
        "\n",
        "    resultados = []\n",
        "\n",
        "    print(\"Calculando desmatamento por município...\")\n",
        "    for idx, row in tqdm(gdf.iterrows(), total=gdf.shape[0]):\n",
        "        try:\n",
        "            out_image, out_transform = mask(src, [mapping(row.geometry)], crop=True)\n",
        "            data = out_image[0]\n",
        "\n",
        "            mask_valid = data != src.nodata\n",
        "\n",
        "            desmatado = (data == 1) & mask_valid\n",
        "\n",
        "            n_pixels_desmatado = np.sum(desmatado)\n",
        "\n",
        "            area_desmatada_ha = n_pixels_desmatado * pixel_area_ha\n",
        "\n",
        "            resultados.append({\n",
        "                \"id_municipio\": row[\"CD_MUN\"],\n",
        "                \"nome_municipio\": row[\"NM_MUN\"],\n",
        "                \"area_desmatada_ha\": area_desmatada_ha\n",
        "            })\n",
        "        except Exception as e:\n",
        "            print(f\"Erro no município {row['NM_MUN']}: {e}\")\n",
        "            continue\n",
        "\n",
        "df_resultado = pd.DataFrame(resultados)\n",
        "df_resultado.to_csv(\"./area_desmatada_por_municipio.csv\", index=False)"
      ]
    },
    {
      "cell_type": "code",
      "execution_count": null,
      "metadata": {
        "id": "aBNwJbCK-ZKA"
      },
      "outputs": [],
      "source": [
        "df = pd.read_csv(\"./area_desmatada_por_municipio.csv\")"
      ]
    },
    {
      "cell_type": "code",
      "execution_count": 7,
      "metadata": {
        "colab": {
          "base_uri": "https://localhost:8080/",
          "height": 81
        },
        "id": "P2C4RPEi-b7-",
        "outputId": "c95430bd-00db-4278-f92f-1fb2b8e54aad"
      },
      "outputs": [
        {
          "data": {
            "application/vnd.google.colaboratory.intrinsic+json": {
              "summary": "{\n  \"name\": \"df\",\n  \"rows\": 1,\n  \"fields\": [\n    {\n      \"column\": \"id_municipio\",\n      \"properties\": {\n        \"dtype\": \"number\",\n        \"std\": null,\n        \"min\": 1500602,\n        \"max\": 1500602,\n        \"num_unique_values\": 1,\n        \"samples\": [\n          1500602\n        ],\n        \"semantic_type\": \"\",\n        \"description\": \"\"\n      }\n    },\n    {\n      \"column\": \"nome_municipio\",\n      \"properties\": {\n        \"dtype\": \"string\",\n        \"num_unique_values\": 1,\n        \"samples\": [\n          \"Altamira\"\n        ],\n        \"semantic_type\": \"\",\n        \"description\": \"\"\n      }\n    },\n    {\n      \"column\": \"area_desmatada_ha\",\n      \"properties\": {\n        \"dtype\": \"number\",\n        \"std\": null,\n        \"min\": 31761.94046214815,\n        \"max\": 31761.94046214815,\n        \"num_unique_values\": 1,\n        \"samples\": [\n          31761.94046214815\n        ],\n        \"semantic_type\": \"\",\n        \"description\": \"\"\n      }\n    }\n  ]\n}",
              "type": "dataframe"
            },
            "text/html": [
              "\n",
              "  <div id=\"df-8c424ba3-a1c2-4b2d-9125-8f98f0fa5eaa\" class=\"colab-df-container\">\n",
              "    <div>\n",
              "<style scoped>\n",
              "    .dataframe tbody tr th:only-of-type {\n",
              "        vertical-align: middle;\n",
              "    }\n",
              "\n",
              "    .dataframe tbody tr th {\n",
              "        vertical-align: top;\n",
              "    }\n",
              "\n",
              "    .dataframe thead th {\n",
              "        text-align: right;\n",
              "    }\n",
              "</style>\n",
              "<table border=\"1\" class=\"dataframe\">\n",
              "  <thead>\n",
              "    <tr style=\"text-align: right;\">\n",
              "      <th></th>\n",
              "      <th>id_municipio</th>\n",
              "      <th>nome_municipio</th>\n",
              "      <th>area_desmatada_ha</th>\n",
              "    </tr>\n",
              "  </thead>\n",
              "  <tbody>\n",
              "    <tr>\n",
              "      <th>559</th>\n",
              "      <td>1500602</td>\n",
              "      <td>Altamira</td>\n",
              "      <td>31761.940462</td>\n",
              "    </tr>\n",
              "  </tbody>\n",
              "</table>\n",
              "</div>\n",
              "    <div class=\"colab-df-buttons\">\n",
              "\n",
              "  <div class=\"colab-df-container\">\n",
              "    <button class=\"colab-df-convert\" onclick=\"convertToInteractive('df-8c424ba3-a1c2-4b2d-9125-8f98f0fa5eaa')\"\n",
              "            title=\"Convert this dataframe to an interactive table.\"\n",
              "            style=\"display:none;\">\n",
              "\n",
              "  <svg xmlns=\"http://www.w3.org/2000/svg\" height=\"24px\" viewBox=\"0 -960 960 960\">\n",
              "    <path d=\"M120-120v-720h720v720H120Zm60-500h600v-160H180v160Zm220 220h160v-160H400v160Zm0 220h160v-160H400v160ZM180-400h160v-160H180v160Zm440 0h160v-160H620v160ZM180-180h160v-160H180v160Zm440 0h160v-160H620v160Z\"/>\n",
              "  </svg>\n",
              "    </button>\n",
              "\n",
              "  <style>\n",
              "    .colab-df-container {\n",
              "      display:flex;\n",
              "      gap: 12px;\n",
              "    }\n",
              "\n",
              "    .colab-df-convert {\n",
              "      background-color: #E8F0FE;\n",
              "      border: none;\n",
              "      border-radius: 50%;\n",
              "      cursor: pointer;\n",
              "      display: none;\n",
              "      fill: #1967D2;\n",
              "      height: 32px;\n",
              "      padding: 0 0 0 0;\n",
              "      width: 32px;\n",
              "    }\n",
              "\n",
              "    .colab-df-convert:hover {\n",
              "      background-color: #E2EBFA;\n",
              "      box-shadow: 0px 1px 2px rgba(60, 64, 67, 0.3), 0px 1px 3px 1px rgba(60, 64, 67, 0.15);\n",
              "      fill: #174EA6;\n",
              "    }\n",
              "\n",
              "    .colab-df-buttons div {\n",
              "      margin-bottom: 4px;\n",
              "    }\n",
              "\n",
              "    [theme=dark] .colab-df-convert {\n",
              "      background-color: #3B4455;\n",
              "      fill: #D2E3FC;\n",
              "    }\n",
              "\n",
              "    [theme=dark] .colab-df-convert:hover {\n",
              "      background-color: #434B5C;\n",
              "      box-shadow: 0px 1px 3px 1px rgba(0, 0, 0, 0.15);\n",
              "      filter: drop-shadow(0px 1px 2px rgba(0, 0, 0, 0.3));\n",
              "      fill: #FFFFFF;\n",
              "    }\n",
              "  </style>\n",
              "\n",
              "    <script>\n",
              "      const buttonEl =\n",
              "        document.querySelector('#df-8c424ba3-a1c2-4b2d-9125-8f98f0fa5eaa button.colab-df-convert');\n",
              "      buttonEl.style.display =\n",
              "        google.colab.kernel.accessAllowed ? 'block' : 'none';\n",
              "\n",
              "      async function convertToInteractive(key) {\n",
              "        const element = document.querySelector('#df-8c424ba3-a1c2-4b2d-9125-8f98f0fa5eaa');\n",
              "        const dataTable =\n",
              "          await google.colab.kernel.invokeFunction('convertToInteractive',\n",
              "                                                    [key], {});\n",
              "        if (!dataTable) return;\n",
              "\n",
              "        const docLinkHtml = 'Like what you see? Visit the ' +\n",
              "          '<a target=\"_blank\" href=https://colab.research.google.com/notebooks/data_table.ipynb>data table notebook</a>'\n",
              "          + ' to learn more about interactive tables.';\n",
              "        element.innerHTML = '';\n",
              "        dataTable['output_type'] = 'display_data';\n",
              "        await google.colab.output.renderOutput(dataTable, element);\n",
              "        const docLink = document.createElement('div');\n",
              "        docLink.innerHTML = docLinkHtml;\n",
              "        element.appendChild(docLink);\n",
              "      }\n",
              "    </script>\n",
              "  </div>\n",
              "\n",
              "\n",
              "    </div>\n",
              "  </div>\n"
            ],
            "text/plain": [
              "     id_municipio nome_municipio  area_desmatada_ha\n",
              "559       1500602       Altamira       31761.940462"
            ]
          },
          "execution_count": 7,
          "metadata": {},
          "output_type": "execute_result"
        }
      ],
      "source": [
        "df.query(\"id_municipio == 1500602\")"
      ]
    }
  ],
  "metadata": {
    "colab": {
      "provenance": []
    },
    "kernelspec": {
      "display_name": "base",
      "language": "python",
      "name": "python3"
    },
    "language_info": {
      "codemirror_mode": {
        "name": "ipython",
        "version": 3
      },
      "file_extension": ".py",
      "mimetype": "text/x-python",
      "name": "python",
      "nbconvert_exporter": "python",
      "pygments_lexer": "ipython3",
      "version": "3.11.4"
    }
  },
  "nbformat": 4,
  "nbformat_minor": 0
}
