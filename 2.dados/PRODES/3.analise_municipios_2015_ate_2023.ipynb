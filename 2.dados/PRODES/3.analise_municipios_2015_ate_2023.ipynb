{
 "cells": [
  {
   "cell_type": "code",
   "execution_count": 13,
   "id": "da299f56",
   "metadata": {},
   "outputs": [],
   "source": [
    "import geopandas as gpd\n",
    "import pandas as pd"
   ]
  },
  {
   "cell_type": "code",
   "execution_count": 2,
   "id": "6c4aac6a",
   "metadata": {},
   "outputs": [
    {
     "name": "stdout",
     "output_type": "stream",
     "text": [
      "773\n"
     ]
    }
   ],
   "source": [
    "df = pd.read_csv(\"./inpe_municipios_desmatamento.csv\", sep=\";\")\n",
    "print(len(df))"
   ]
  },
  {
   "cell_type": "code",
   "execution_count": 14,
   "id": "6f415258",
   "metadata": {},
   "outputs": [],
   "source": [
    "shapefile = \"./ibge_malha_municipal/BR_Municipios_2024.shp\"\n",
    "estados_amazonia_legal = ['AC', 'AP', 'AM', 'MA', 'MT', 'PA', 'RO', 'RR', 'TO']\n",
    "gdf = gpd.read_file(shapefile)\n",
    "gdf = gdf[gdf[\"SIGLA_UF\"].isin(estados_amazonia_legal)].copy()\n",
    "gdf = gdf.to_crs(\"EPSG:5880\")\n",
    "gdf = gdf[['CD_MUN', 'NM_MUN', 'CD_UF', 'NM_UF', 'SIGLA_UF', 'AREA_KM2']]"
   ]
  },
  {
   "cell_type": "code",
   "execution_count": 15,
   "id": "a7224c4a",
   "metadata": {},
   "outputs": [],
   "source": [
    "df['geocode_ibge'] = df['geocode_ibge'].astype('Int64')\n",
    "gdf['CD_MUN'] = gdf['CD_MUN'].astype('Int64')"
   ]
  },
  {
   "cell_type": "code",
   "execution_count": 11,
   "id": "ba3a1d6d",
   "metadata": {},
   "outputs": [],
   "source": [
    "df_merged = pd.merge(df, gdf, left_on='geocode_ibge', right_on= 'CD_MUN',how='inner')\n",
    "df_merged = df_merged[['CD_MUN', 'NM_MUN', 'CD_UF', 'NM_UF', 'SIGLA_UF', 'area km²', 'AREA_KM2']]\n",
    "df_merged.columns = ['codigo_municipio', 'nome_municipio', 'codigo_uf', 'nome_uf', 'sigla_uf', 'area_desmtada_km2', 'area_total_km2']"
   ]
  },
  {
   "cell_type": "code",
   "execution_count": 8,
   "id": "4aeefab1",
   "metadata": {},
   "outputs": [],
   "source": [
    "df_merged['area_desmtada_km2'] = (\n",
    "    df_merged['area_desmtada_km2']\n",
    "    .str.replace('.', '', regex=False)\n",
    "    .str.replace(',', '.', regex=False)\n",
    "    .astype(float)\n",
    ")\n"
   ]
  },
  {
   "cell_type": "code",
   "execution_count": 9,
   "id": "c0efccd0",
   "metadata": {},
   "outputs": [],
   "source": [
    "df_merged.to_csv(\"municipios_desmatamento.csv\")"
   ]
  }
 ],
 "metadata": {
  "kernelspec": {
   "display_name": "base",
   "language": "python",
   "name": "python3"
  },
  "language_info": {
   "codemirror_mode": {
    "name": "ipython",
    "version": 3
   },
   "file_extension": ".py",
   "mimetype": "text/x-python",
   "name": "python",
   "nbconvert_exporter": "python",
   "pygments_lexer": "ipython3",
   "version": "3.11.4"
  }
 },
 "nbformat": 4,
 "nbformat_minor": 5
}
