{
 "cells": [
  {
   "cell_type": "code",
   "execution_count": 1,
   "id": "4d4976c5",
   "metadata": {},
   "outputs": [
    {
     "name": "stderr",
     "output_type": "stream",
     "text": [
      "/Users/juliasbardelatti/anaconda3/lib/python3.11/site-packages/pandas/core/arrays/masked.py:60: UserWarning: Pandas requires version '1.3.6' or newer of 'bottleneck' (version '1.3.5' currently installed).\n",
      "  from pandas.core import (\n"
     ]
    }
   ],
   "source": [
    "import pandas as pd"
   ]
  },
  {
   "cell_type": "code",
   "execution_count": 2,
   "id": "d3dee31c",
   "metadata": {},
   "outputs": [],
   "source": [
    "df_2014 = pd.read_csv(\"./desmatamento_mun_2014.csv\", sep=\";\")\n",
    "df_2014.columns = ['nome_municipio', 'area_desmatada', 'codigo_municipio', 'uf']\n",
    "\n",
    "df_2015 = pd.read_csv(\"./desmatamento_mun_2015.csv\", sep=\";\")\n",
    "df_2015.columns = ['nome_municipio', 'area_desmatada', 'codigo_municipio', 'uf']\n",
    "\n",
    "df_2016 = pd.read_csv(\"./desmatamento_mun_2016.csv\", sep=\";\")\n",
    "df_2016.columns = ['nome_municipio', 'area_desmatada', 'codigo_municipio', 'uf']\n",
    "\n",
    "df_2016 = pd.read_csv(\"./desmatamento_mun_2016.csv\", sep=\";\")\n",
    "df_2016.columns = ['nome_municipio', 'area_desmatada', 'codigo_municipio', 'uf']\n",
    "\n",
    "df_2017 = pd.read_csv(\"./desmatamento_mun_2017.csv\", sep=\";\")\n",
    "df_2017.columns = ['nome_municipio', 'area_desmatada', 'codigo_municipio', 'uf']\n",
    "\n",
    "df_2018 = pd.read_csv(\"./desmatamento_mun_2018.csv\", sep=\";\")\n",
    "df_2018.columns = ['nome_municipio', 'area_desmatada', 'codigo_municipio', 'uf']\n",
    "\n",
    "df_2019 = pd.read_csv(\"./desmatamento_mun_2019.csv\", sep=\";\")\n",
    "df_2019.columns = ['nome_municipio', 'area_desmatada', 'codigo_municipio', 'uf']\n",
    "\n",
    "df_2020 = pd.read_csv(\"./desmatamento_mun_2020.csv\", sep=\";\")\n",
    "df_2020.columns = ['nome_municipio', 'area_desmatada', 'codigo_municipio', 'uf']\n",
    "\n",
    "df_2021 = pd.read_csv(\"./desmatamento_mun_2021.csv\", sep=\";\")\n",
    "df_2021.columns = ['nome_municipio', 'area_desmatada', 'codigo_municipio', 'uf']\n",
    "\n",
    "df_2022 = pd.read_csv(\"./desmatamento_mun_2022.csv\", sep=\";\")\n",
    "df_2022.columns = ['nome_municipio', 'area_desmatada', 'codigo_municipio', 'uf']\n",
    "\n",
    "df_2023 = pd.read_csv(\"./desmatamento_mun_2023.csv\", sep=\";\")\n",
    "df_2023.columns = ['nome_municipio', 'area_desmatada', 'codigo_municipio', 'uf']"
   ]
  },
  {
   "cell_type": "code",
   "execution_count": 3,
   "id": "dc806920",
   "metadata": {},
   "outputs": [],
   "source": [
    "df_2014['ano'] = 2014\n",
    "df_2015['ano'] = 2015\n",
    "df_2016['ano'] = 2016\n",
    "df_2017['ano'] = 2017\n",
    "df_2018['ano'] = 2018\n",
    "df_2019['ano'] = 2019\n",
    "df_2020['ano'] = 2020\n",
    "df_2021['ano'] = 2021\n",
    "df_2022['ano'] = 2022\n",
    "df_2023['ano'] = 2023"
   ]
  },
  {
   "cell_type": "code",
   "execution_count": 4,
   "id": "d8c6f92a",
   "metadata": {},
   "outputs": [],
   "source": [
    "df_all = pd.concat([df_2014, df_2015, df_2016,df_2017, df_2018, df_2019,df_2020, df_2021, df_2022, df_2023], ignore_index=True)"
   ]
  },
  {
   "cell_type": "code",
   "execution_count": 5,
   "id": "b6fff545",
   "metadata": {},
   "outputs": [],
   "source": [
    "df_all['area_desmatada'] = (\n",
    "    df_all['area_desmatada']\n",
    "    .str.replace('.', '', regex=False)\n",
    "    .str.replace(',', '.', regex=False)\n",
    "    .astype(float)\n",
    ")"
   ]
  },
  {
   "cell_type": "code",
   "execution_count": 6,
   "id": "e38f43d1",
   "metadata": {},
   "outputs": [
    {
     "data": {
      "text/html": [
       "<div>\n",
       "<style scoped>\n",
       "    .dataframe tbody tr th:only-of-type {\n",
       "        vertical-align: middle;\n",
       "    }\n",
       "\n",
       "    .dataframe tbody tr th {\n",
       "        vertical-align: top;\n",
       "    }\n",
       "\n",
       "    .dataframe thead th {\n",
       "        text-align: right;\n",
       "    }\n",
       "</style>\n",
       "<table border=\"1\" class=\"dataframe\">\n",
       "  <thead>\n",
       "    <tr style=\"text-align: right;\">\n",
       "      <th></th>\n",
       "      <th>nome_municipio</th>\n",
       "      <th>area_desmatada</th>\n",
       "      <th>codigo_municipio</th>\n",
       "      <th>uf</th>\n",
       "      <th>ano</th>\n",
       "    </tr>\n",
       "  </thead>\n",
       "  <tbody>\n",
       "    <tr>\n",
       "      <th>727</th>\n",
       "      <td>Lábrea</td>\n",
       "      <td>132.54</td>\n",
       "      <td>1302405</td>\n",
       "      <td>Amazonas</td>\n",
       "      <td>2014</td>\n",
       "    </tr>\n",
       "    <tr>\n",
       "      <th>1500</th>\n",
       "      <td>Lábrea</td>\n",
       "      <td>236.80</td>\n",
       "      <td>1302405</td>\n",
       "      <td>Amazonas</td>\n",
       "      <td>2015</td>\n",
       "    </tr>\n",
       "    <tr>\n",
       "      <th>2273</th>\n",
       "      <td>Lábrea</td>\n",
       "      <td>310.24</td>\n",
       "      <td>1302405</td>\n",
       "      <td>Amazonas</td>\n",
       "      <td>2016</td>\n",
       "    </tr>\n",
       "    <tr>\n",
       "      <th>3046</th>\n",
       "      <td>Lábrea</td>\n",
       "      <td>276.87</td>\n",
       "      <td>1302405</td>\n",
       "      <td>Amazonas</td>\n",
       "      <td>2017</td>\n",
       "    </tr>\n",
       "    <tr>\n",
       "      <th>3819</th>\n",
       "      <td>Lábrea</td>\n",
       "      <td>315.52</td>\n",
       "      <td>1302405</td>\n",
       "      <td>Amazonas</td>\n",
       "      <td>2018</td>\n",
       "    </tr>\n",
       "    <tr>\n",
       "      <th>4592</th>\n",
       "      <td>Lábrea</td>\n",
       "      <td>381.76</td>\n",
       "      <td>1302405</td>\n",
       "      <td>Amazonas</td>\n",
       "      <td>2019</td>\n",
       "    </tr>\n",
       "    <tr>\n",
       "      <th>5365</th>\n",
       "      <td>Lábrea</td>\n",
       "      <td>382.87</td>\n",
       "      <td>1302405</td>\n",
       "      <td>Amazonas</td>\n",
       "      <td>2020</td>\n",
       "    </tr>\n",
       "    <tr>\n",
       "      <th>6138</th>\n",
       "      <td>Lábrea</td>\n",
       "      <td>540.23</td>\n",
       "      <td>1302405</td>\n",
       "      <td>Amazonas</td>\n",
       "      <td>2021</td>\n",
       "    </tr>\n",
       "    <tr>\n",
       "      <th>6911</th>\n",
       "      <td>Lábrea</td>\n",
       "      <td>699.59</td>\n",
       "      <td>1302405</td>\n",
       "      <td>Amazonas</td>\n",
       "      <td>2022</td>\n",
       "    </tr>\n",
       "    <tr>\n",
       "      <th>7684</th>\n",
       "      <td>Lábrea</td>\n",
       "      <td>206.75</td>\n",
       "      <td>1302405</td>\n",
       "      <td>Amazonas</td>\n",
       "      <td>2023</td>\n",
       "    </tr>\n",
       "  </tbody>\n",
       "</table>\n",
       "</div>"
      ],
      "text/plain": [
       "     nome_municipio  area_desmatada  codigo_municipio        uf   ano\n",
       "727          Lábrea          132.54           1302405  Amazonas  2014\n",
       "1500         Lábrea          236.80           1302405  Amazonas  2015\n",
       "2273         Lábrea          310.24           1302405  Amazonas  2016\n",
       "3046         Lábrea          276.87           1302405  Amazonas  2017\n",
       "3819         Lábrea          315.52           1302405  Amazonas  2018\n",
       "4592         Lábrea          381.76           1302405  Amazonas  2019\n",
       "5365         Lábrea          382.87           1302405  Amazonas  2020\n",
       "6138         Lábrea          540.23           1302405  Amazonas  2021\n",
       "6911         Lábrea          699.59           1302405  Amazonas  2022\n",
       "7684         Lábrea          206.75           1302405  Amazonas  2023"
      ]
     },
     "execution_count": 6,
     "metadata": {},
     "output_type": "execute_result"
    }
   ],
   "source": [
    "df_all.query('nome_municipio == \"Lábrea\"').sort_values(['codigo_municipio', 'ano'])"
   ]
  },
  {
   "cell_type": "code",
   "execution_count": 7,
   "id": "3b493130",
   "metadata": {},
   "outputs": [],
   "source": [
    "df_all.to_csv(\"./base_desmatamento_por_municipio_e_ano.csv\")"
   ]
  }
 ],
 "metadata": {
  "kernelspec": {
   "display_name": "base",
   "language": "python",
   "name": "python3"
  },
  "language_info": {
   "codemirror_mode": {
    "name": "ipython",
    "version": 3
   },
   "file_extension": ".py",
   "mimetype": "text/x-python",
   "name": "python",
   "nbconvert_exporter": "python",
   "pygments_lexer": "ipython3",
   "version": "3.11.4"
  }
 },
 "nbformat": 4,
 "nbformat_minor": 5
}
