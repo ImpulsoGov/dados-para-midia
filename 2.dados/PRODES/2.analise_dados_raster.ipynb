{
 "cells": [
  {
   "cell_type": "code",
   "execution_count": 70,
   "id": "41ed3e17",
   "metadata": {},
   "outputs": [],
   "source": [
    "import pandas as pd\n",
    "import geopandas as gpd"
   ]
  },
  {
   "cell_type": "code",
   "execution_count": 71,
   "id": "d8810c42",
   "metadata": {},
   "outputs": [],
   "source": [
    "df_prodes = pd.read_csv(\"./desmatamento/desmatamento_por_municipio_2023.csv\")\n",
    "df_biomas = pd.read_csv('impe_dados_biomas.csv.gz')\n",
    "df_biomas = df_biomas.query(\"ano == 2023\")\n",
    "df_regioes = pd.read_csv('./municipios_regioes.csv')"
   ]
  },
  {
   "cell_type": "code",
   "execution_count": 72,
   "id": "1609419c",
   "metadata": {},
   "outputs": [],
   "source": [
    "df_prodes_municipios = pd.merge(df_prodes, df_regioes, right_on='codigo_municipio_ibge',left_on='id_municipio', how='inner')"
   ]
  },
  {
   "cell_type": "code",
   "execution_count": 73,
   "id": "c0c509b7",
   "metadata": {},
   "outputs": [],
   "source": [
    "estados_amazonia_legal = ['AC', 'AP', 'AM', 'MA', 'MT', 'PA', 'RO', 'RR', 'TO']\n",
    "shapefile = \"./ibge_malha_municipal/BR_Municipios_2024.shp\"\n",
    "gdf = gpd.read_file(shapefile)\n",
    "gdf = gdf[gdf[\"SIGLA_UF\"].isin(estados_amazonia_legal)].copy()\n",
    "gdf = gdf.to_crs(\"EPSG:5880\")\n",
    "df_municipios = gdf[['CD_MUN', 'NM_MUN', 'SIGLA_UF', 'AREA_KM2']]"
   ]
  },
  {
   "cell_type": "code",
   "execution_count": 74,
   "id": "a97c5e1d",
   "metadata": {},
   "outputs": [
    {
     "name": "stderr",
     "output_type": "stream",
     "text": [
      "/var/folders/gy/cxx2_pv95ys52g0qvnjgcsqm0000gn/T/ipykernel_11853/345991298.py:1: SettingWithCopyWarning: \n",
      "A value is trying to be set on a copy of a slice from a DataFrame.\n",
      "Try using .loc[row_indexer,col_indexer] = value instead\n",
      "\n",
      "See the caveats in the documentation: https://pandas.pydata.org/pandas-docs/stable/user_guide/indexing.html#returning-a-view-versus-a-copy\n",
      "  df_municipios['CD_MUN'] = df_municipios['CD_MUN'].fillna(0).astype(int)\n"
     ]
    }
   ],
   "source": [
    "df_municipios['CD_MUN'] = df_municipios['CD_MUN'].fillna(0).astype(int) \n",
    "df_prodes['id_municipio'] = df_prodes['id_municipio'].fillna(0).astype(int) \n",
    "df_biomas['id_municipio'] = df_biomas['id_municipio'].fillna(0).astype(int) \n",
    "df_prodes['area_desmatada'] = df_prodes['area_desmatada_ha'] / 100"
   ]
  },
  {
   "cell_type": "code",
   "execution_count": 75,
   "id": "14714700",
   "metadata": {},
   "outputs": [],
   "source": [
    "df_biomas_municipios = pd.merge(df_biomas, df_municipios, right_on='CD_MUN',left_on='id_municipio', how='inner')\n",
    "df_uf_agrupado_biomas = df_biomas_municipios.groupby('SIGLA_UF')[['desmatado', 'AREA_KM2']].sum().reset_index()\n",
    "df_uf_agrupado_biomas['proporcao_desmatada'] = df_uf_agrupado_biomas['desmatado'] / (df_uf_agrupado_biomas['AREA_KM2'] * 100)  "
   ]
  },
  {
   "cell_type": "code",
   "execution_count": 76,
   "id": "9f688879",
   "metadata": {},
   "outputs": [
    {
     "data": {
      "text/html": [
       "<div>\n",
       "<style scoped>\n",
       "    .dataframe tbody tr th:only-of-type {\n",
       "        vertical-align: middle;\n",
       "    }\n",
       "\n",
       "    .dataframe tbody tr th {\n",
       "        vertical-align: top;\n",
       "    }\n",
       "\n",
       "    .dataframe thead th {\n",
       "        text-align: right;\n",
       "    }\n",
       "</style>\n",
       "<table border=\"1\" class=\"dataframe\">\n",
       "  <thead>\n",
       "    <tr style=\"text-align: right;\">\n",
       "      <th></th>\n",
       "      <th>SIGLA_UF</th>\n",
       "      <th>desmatado</th>\n",
       "      <th>AREA_KM2</th>\n",
       "      <th>proporcao_desmatada</th>\n",
       "    </tr>\n",
       "  </thead>\n",
       "  <tbody>\n",
       "    <tr>\n",
       "      <th>0</th>\n",
       "      <td>AC</td>\n",
       "      <td>26220.7</td>\n",
       "      <td>164082.961</td>\n",
       "      <td>0.001598</td>\n",
       "    </tr>\n",
       "    <tr>\n",
       "      <th>1</th>\n",
       "      <td>AM</td>\n",
       "      <td>49279.5</td>\n",
       "      <td>1558706.131</td>\n",
       "      <td>0.000316</td>\n",
       "    </tr>\n",
       "    <tr>\n",
       "      <th>2</th>\n",
       "      <td>AP</td>\n",
       "      <td>3075.6</td>\n",
       "      <td>142253.880</td>\n",
       "      <td>0.000216</td>\n",
       "    </tr>\n",
       "    <tr>\n",
       "      <th>3</th>\n",
       "      <td>MA</td>\n",
       "      <td>165999.3</td>\n",
       "      <td>380789.258</td>\n",
       "      <td>0.004359</td>\n",
       "    </tr>\n",
       "    <tr>\n",
       "      <th>4</th>\n",
       "      <td>MT</td>\n",
       "      <td>369926.3</td>\n",
       "      <td>1375902.458</td>\n",
       "      <td>0.002689</td>\n",
       "    </tr>\n",
       "    <tr>\n",
       "      <th>5</th>\n",
       "      <td>PA</td>\n",
       "      <td>291733.8</td>\n",
       "      <td>1286634.108</td>\n",
       "      <td>0.002267</td>\n",
       "    </tr>\n",
       "    <tr>\n",
       "      <th>6</th>\n",
       "      <td>RO</td>\n",
       "      <td>99137.1</td>\n",
       "      <td>249462.754</td>\n",
       "      <td>0.003974</td>\n",
       "    </tr>\n",
       "    <tr>\n",
       "      <th>7</th>\n",
       "      <td>RR</td>\n",
       "      <td>12397.7</td>\n",
       "      <td>223505.384</td>\n",
       "      <td>0.000555</td>\n",
       "    </tr>\n",
       "    <tr>\n",
       "      <th>8</th>\n",
       "      <td>TO</td>\n",
       "      <td>109550.6</td>\n",
       "      <td>313171.978</td>\n",
       "      <td>0.003498</td>\n",
       "    </tr>\n",
       "  </tbody>\n",
       "</table>\n",
       "</div>"
      ],
      "text/plain": [
       "  SIGLA_UF  desmatado     AREA_KM2  proporcao_desmatada\n",
       "0       AC    26220.7   164082.961             0.001598\n",
       "1       AM    49279.5  1558706.131             0.000316\n",
       "2       AP     3075.6   142253.880             0.000216\n",
       "3       MA   165999.3   380789.258             0.004359\n",
       "4       MT   369926.3  1375902.458             0.002689\n",
       "5       PA   291733.8  1286634.108             0.002267\n",
       "6       RO    99137.1   249462.754             0.003974\n",
       "7       RR    12397.7   223505.384             0.000555\n",
       "8       TO   109550.6   313171.978             0.003498"
      ]
     },
     "execution_count": 76,
     "metadata": {},
     "output_type": "execute_result"
    }
   ],
   "source": [
    "df_uf_agrupado_biomas"
   ]
  },
  {
   "cell_type": "code",
   "execution_count": 77,
   "id": "5f41d60e",
   "metadata": {},
   "outputs": [],
   "source": [
    "df_prodes_municipios = pd.merge(df_prodes, df_municipios, right_on='CD_MUN',left_on='id_municipio', how='inner')\n",
    "df_uf_agrupado = df_prodes_municipios.groupby('SIGLA_UF')[['area_desmatada', 'AREA_KM2']].sum().reset_index()\n",
    "df_uf_agrupado['proporcao_desmatada'] = df_uf_agrupado['area_desmatada'] / (df_uf_agrupado['AREA_KM2'] * 100)  "
   ]
  },
  {
   "cell_type": "code",
   "execution_count": null,
   "id": "d2dcad4d",
   "metadata": {},
   "outputs": [
    {
     "name": "stdout",
     "output_type": "stream",
     "text": [
      "  SIGLA_UF  area_desmatada  percentual\n",
      "5       PA     2887.929983   35.723892\n",
      "4       MT     1943.513626   24.041397\n",
      "1       AM     1327.683014   16.423530\n",
      "6       RO      807.855563    9.993229\n",
      "0       AC      480.346671    5.941921\n",
      "3       MA      312.442703    3.864938\n",
      "7       RR      278.109353    3.440232\n",
      "8       TO       30.454371    0.376723\n",
      "2       AP       15.694206    0.194138\n"
     ]
    }
   ],
   "source": [
    "df_estado = df_prodes_municipios.groupby('SIGLA_UF', as_index=False)['area_desmatada'].sum()\n",
    "total_area_desmatada = df_estado['area_desmatada'].sum()\n",
    "df_estado['percentual'] = (df_estado['area_desmatada'] / total_area_desmatada) * 100\n",
    "df_estado = df_estado.sort_values(by='area_desmatada', ascending=False)\n",
    "print(df_estado)"
   ]
  }
 ],
 "metadata": {
  "kernelspec": {
   "display_name": "base",
   "language": "python",
   "name": "python3"
  },
  "language_info": {
   "codemirror_mode": {
    "name": "ipython",
    "version": 3
   },
   "file_extension": ".py",
   "mimetype": "text/x-python",
   "name": "python",
   "nbconvert_exporter": "python",
   "pygments_lexer": "ipython3",
   "version": "3.11.4"
  }
 },
 "nbformat": 4,
 "nbformat_minor": 5
}
