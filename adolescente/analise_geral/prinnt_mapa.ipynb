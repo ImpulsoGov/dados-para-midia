{
 "cells": [
  {
   "cell_type": "code",
   "execution_count": null,
   "id": "aa43d689",
   "metadata": {},
   "outputs": [],
   "source": [
    "from selenium import webdriver\n",
    "from selenium.webdriver.chrome.options import Options\n",
    "import time\n",
    "\n",
    "options = Options()\n",
    "options.headless = True  \n",
    "driver = webdriver.Chrome(options=options)\n",
    "\n",
    "driver.get(\"file:///Users/juliasbardelatti/Desktop/macbook/julia/projetos/ImpulsaGov/Dados_midia/obesidade_infantil/adolescente/analise_geral/mapa_com_siglas.html\")\n",
    "\n",
    "time.sleep(30)  \n",
    "\n",
    "driver.save_screenshot(\"mapa_com_siglas.png\")\n",
    "\n",
    "driver.quit()"
   ]
  }
 ],
 "metadata": {
  "kernelspec": {
   "display_name": "base",
   "language": "python",
   "name": "python3"
  },
  "language_info": {
   "codemirror_mode": {
    "name": "ipython",
    "version": 3
   },
   "file_extension": ".py",
   "mimetype": "text/x-python",
   "name": "python",
   "nbconvert_exporter": "python",
   "pygments_lexer": "ipython3",
   "version": "3.11.4"
  }
 },
 "nbformat": 4,
 "nbformat_minor": 5
}
