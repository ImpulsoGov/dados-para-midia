{
 "cells": [
  {
   "cell_type": "code",
   "execution_count": 3,
   "metadata": {},
   "outputs": [
    {
     "name": "stderr",
     "output_type": "stream",
     "text": [
      "/Users/juliasbardelatti/anaconda3/lib/python3.11/site-packages/pandas/core/arrays/masked.py:60: UserWarning: Pandas requires version '1.3.6' or newer of 'bottleneck' (version '1.3.5' currently installed).\n",
      "  from pandas.core import (\n"
     ]
    }
   ],
   "source": [
    "import pandas as pd\n",
    "import geopandas as gpd\n",
    "import matplotlib.pyplot as plt\n",
    "import folium\n",
    "import pandas as pd\n",
    "from branca.colormap import linear\n",
    "from DadosAbertosBrasil import ibge\n",
    "import statsmodels.api as sm\n",
    "import warnings\n",
    "from branca.colormap import LinearColormap\n",
    "warnings.filterwarnings(\"ignore\")\n",
    "import mplleaflet\n"
   ]
  },
  {
   "cell_type": "code",
   "execution_count": 4,
   "metadata": {},
   "outputs": [
    {
     "data": {
      "text/html": [
       "<div>\n",
       "<style scoped>\n",
       "    .dataframe tbody tr th:only-of-type {\n",
       "        vertical-align: middle;\n",
       "    }\n",
       "\n",
       "    .dataframe tbody tr th {\n",
       "        vertical-align: top;\n",
       "    }\n",
       "\n",
       "    .dataframe thead th {\n",
       "        text-align: right;\n",
       "    }\n",
       "</style>\n",
       "<table border=\"1\" class=\"dataframe\">\n",
       "  <thead>\n",
       "    <tr style=\"text-align: right;\">\n",
       "      <th></th>\n",
       "      <th>Unnamed: 0</th>\n",
       "      <th>regiao</th>\n",
       "      <th>codigo_uf</th>\n",
       "      <th>uf</th>\n",
       "      <th>codigo_ibge</th>\n",
       "      <th>municipio</th>\n",
       "      <th>qtd_magreza_acentuada</th>\n",
       "      <th>perc_magreza_acentuada</th>\n",
       "      <th>qtd_magreza</th>\n",
       "      <th>perc_magreza</th>\n",
       "      <th>qtd_eutrofia</th>\n",
       "      <th>perc_eutrofia</th>\n",
       "      <th>qtd_sobrepeso</th>\n",
       "      <th>perc_sobrepeso</th>\n",
       "      <th>qtd_obesidade</th>\n",
       "      <th>perc_obesidade</th>\n",
       "      <th>qtd_obesidade_grave</th>\n",
       "      <th>perc_obesidade_grave</th>\n",
       "      <th>total</th>\n",
       "      <th>ano</th>\n",
       "    </tr>\n",
       "  </thead>\n",
       "  <tbody>\n",
       "    <tr>\n",
       "      <th>0</th>\n",
       "      <td>0</td>\n",
       "      <td>CENTRO-OESTE</td>\n",
       "      <td>53.0</td>\n",
       "      <td>DF</td>\n",
       "      <td>530010.0</td>\n",
       "      <td>BRASILIA</td>\n",
       "      <td>237.0</td>\n",
       "      <td>0.0153</td>\n",
       "      <td>448.0</td>\n",
       "      <td>0.0288</td>\n",
       "      <td>11.296</td>\n",
       "      <td>0.7274</td>\n",
       "      <td>2.486</td>\n",
       "      <td>0.1601</td>\n",
       "      <td>900.0</td>\n",
       "      <td>0.0580</td>\n",
       "      <td>163.0</td>\n",
       "      <td>0.0105</td>\n",
       "      <td>15.530</td>\n",
       "      <td>2014</td>\n",
       "    </tr>\n",
       "    <tr>\n",
       "      <th>1</th>\n",
       "      <td>1</td>\n",
       "      <td>TOTAL ESTADO DISTRITO FEDERAL</td>\n",
       "      <td>NaN</td>\n",
       "      <td>NaN</td>\n",
       "      <td>NaN</td>\n",
       "      <td>NaN</td>\n",
       "      <td>237.0</td>\n",
       "      <td>0.0153</td>\n",
       "      <td>448.0</td>\n",
       "      <td>0.0288</td>\n",
       "      <td>11.296</td>\n",
       "      <td>0.7274</td>\n",
       "      <td>2.486</td>\n",
       "      <td>0.1601</td>\n",
       "      <td>900.0</td>\n",
       "      <td>0.0580</td>\n",
       "      <td>163.0</td>\n",
       "      <td>0.0105</td>\n",
       "      <td>15.530</td>\n",
       "      <td>2014</td>\n",
       "    </tr>\n",
       "    <tr>\n",
       "      <th>2</th>\n",
       "      <td>2</td>\n",
       "      <td>CENTRO-OESTE</td>\n",
       "      <td>52.0</td>\n",
       "      <td>GO</td>\n",
       "      <td>520005.0</td>\n",
       "      <td>ABADIA DE GOIAS</td>\n",
       "      <td>5.0</td>\n",
       "      <td>0.0198</td>\n",
       "      <td>8.0</td>\n",
       "      <td>0.0316</td>\n",
       "      <td>174</td>\n",
       "      <td>0.6877</td>\n",
       "      <td>49.0</td>\n",
       "      <td>0.1937</td>\n",
       "      <td>13.0</td>\n",
       "      <td>0.0514</td>\n",
       "      <td>4.0</td>\n",
       "      <td>0.0158</td>\n",
       "      <td>253</td>\n",
       "      <td>2014</td>\n",
       "    </tr>\n",
       "    <tr>\n",
       "      <th>3</th>\n",
       "      <td>3</td>\n",
       "      <td>CENTRO-OESTE</td>\n",
       "      <td>52.0</td>\n",
       "      <td>GO</td>\n",
       "      <td>520010.0</td>\n",
       "      <td>ABADIANIA</td>\n",
       "      <td>5.0</td>\n",
       "      <td>0.0173</td>\n",
       "      <td>8.0</td>\n",
       "      <td>0.0277</td>\n",
       "      <td>211</td>\n",
       "      <td>0.7301</td>\n",
       "      <td>48.0</td>\n",
       "      <td>0.1661</td>\n",
       "      <td>13.0</td>\n",
       "      <td>0.0450</td>\n",
       "      <td>4.0</td>\n",
       "      <td>0.0138</td>\n",
       "      <td>289</td>\n",
       "      <td>2014</td>\n",
       "    </tr>\n",
       "    <tr>\n",
       "      <th>4</th>\n",
       "      <td>4</td>\n",
       "      <td>CENTRO-OESTE</td>\n",
       "      <td>52.0</td>\n",
       "      <td>GO</td>\n",
       "      <td>520013.0</td>\n",
       "      <td>ACREUNA</td>\n",
       "      <td>7.0</td>\n",
       "      <td>0.0115</td>\n",
       "      <td>22.0</td>\n",
       "      <td>0.0362</td>\n",
       "      <td>420</td>\n",
       "      <td>0.6908</td>\n",
       "      <td>105.0</td>\n",
       "      <td>0.1727</td>\n",
       "      <td>43.0</td>\n",
       "      <td>0.0707</td>\n",
       "      <td>11.0</td>\n",
       "      <td>0.0181</td>\n",
       "      <td>608</td>\n",
       "      <td>2014</td>\n",
       "    </tr>\n",
       "  </tbody>\n",
       "</table>\n",
       "</div>"
      ],
      "text/plain": [
       "   Unnamed: 0                         regiao  codigo_uf   uf  codigo_ibge  \\\n",
       "0           0                   CENTRO-OESTE       53.0   DF     530010.0   \n",
       "1           1  TOTAL ESTADO DISTRITO FEDERAL        NaN  NaN          NaN   \n",
       "2           2                   CENTRO-OESTE       52.0   GO     520005.0   \n",
       "3           3                   CENTRO-OESTE       52.0   GO     520010.0   \n",
       "4           4                   CENTRO-OESTE       52.0   GO     520013.0   \n",
       "\n",
       "         municipio  qtd_magreza_acentuada  perc_magreza_acentuada  \\\n",
       "0         BRASILIA                  237.0                  0.0153   \n",
       "1              NaN                  237.0                  0.0153   \n",
       "2  ABADIA DE GOIAS                    5.0                  0.0198   \n",
       "3        ABADIANIA                    5.0                  0.0173   \n",
       "4          ACREUNA                    7.0                  0.0115   \n",
       "\n",
       "   qtd_magreza  perc_magreza qtd_eutrofia  perc_eutrofia qtd_sobrepeso  \\\n",
       "0        448.0        0.0288       11.296         0.7274         2.486   \n",
       "1        448.0        0.0288       11.296         0.7274         2.486   \n",
       "2          8.0        0.0316          174         0.6877          49.0   \n",
       "3          8.0        0.0277          211         0.7301          48.0   \n",
       "4         22.0        0.0362          420         0.6908         105.0   \n",
       "\n",
       "   perc_sobrepeso  qtd_obesidade  perc_obesidade  qtd_obesidade_grave  \\\n",
       "0          0.1601          900.0          0.0580                163.0   \n",
       "1          0.1601          900.0          0.0580                163.0   \n",
       "2          0.1937           13.0          0.0514                  4.0   \n",
       "3          0.1661           13.0          0.0450                  4.0   \n",
       "4          0.1727           43.0          0.0707                 11.0   \n",
       "\n",
       "   perc_obesidade_grave   total   ano  \n",
       "0                0.0105  15.530  2014  \n",
       "1                0.0105  15.530  2014  \n",
       "2                0.0158     253  2014  \n",
       "3                0.0138     289  2014  \n",
       "4                0.0181     608  2014  "
      ]
     },
     "execution_count": 4,
     "metadata": {},
     "output_type": "execute_result"
    }
   ],
   "source": [
    "df = pd.read_csv(\"analise_geral.csv\")\n",
    "df = df.query(\"ano == 2014 or ano == 2024\")\n",
    "df.head()"
   ]
  },
  {
   "cell_type": "code",
   "execution_count": 5,
   "metadata": {},
   "outputs": [],
   "source": [
    "df_estado = df[df['regiao'].str.startswith(('TOTAL ESTADO'), na=False)]\n",
    "df_estado['NOME'] = df_estado['regiao'].str.replace('TOTAL ESTADO ', '').str.strip()"
   ]
  },
  {
   "cell_type": "code",
   "execution_count": 6,
   "metadata": {},
   "outputs": [],
   "source": [
    "base_codigos = pd.read_csv(\"estados.csv\")\n",
    "base_codigos['NOME'] = base_codigos['NOME'].str.upper()\n",
    "resultado = df_estado.merge(base_codigos, on='NOME', how='left')"
   ]
  },
  {
   "cell_type": "code",
   "execution_count": 7,
   "metadata": {},
   "outputs": [],
   "source": [
    "colunas_para_converter = ['perc_magreza_acentuada', 'perc_magreza', 'perc_eutrofia', 'perc_sobrepeso', 'perc_obesidade', 'perc_obesidade_grave'] \n",
    "\n",
    "for coluna in colunas_para_converter:\n",
    "    resultado[coluna] = pd.to_numeric(resultado[coluna], errors='coerce') \n",
    "\n",
    "resultado['excesso_de_peso'] = (resultado['perc_sobrepeso'] + resultado['perc_obesidade'] + resultado['perc_obesidade_grave']) "
   ]
  },
  {
   "cell_type": "code",
   "execution_count": 8,
   "metadata": {},
   "outputs": [],
   "source": [
    "resultado = resultado[['ano', 'NOME', 'COD', 'SIGLA', 'excesso_de_peso']]"
   ]
  },
  {
   "cell_type": "code",
   "execution_count": 9,
   "metadata": {},
   "outputs": [],
   "source": [
    "resultado['ano'] = resultado['ano'].astype(int)\n",
    "\n",
    "df_2014 = resultado[resultado['ano'] == 2014].set_index(['COD', 'SIGLA', 'NOME'])\n",
    "df_2024 = resultado[resultado['ano'] == 2024].set_index(['COD', 'SIGLA', 'NOME'])\n",
    "\n",
    "df_comparado = df_2014[['excesso_de_peso']].join(\n",
    "    df_2024[['excesso_de_peso']], lsuffix='_2014', rsuffix='_2024'\n",
    ")"
   ]
  },
  {
   "cell_type": "code",
   "execution_count": 10,
   "metadata": {},
   "outputs": [],
   "source": [
    "df_comparado['variacao_absoluta'] = (df_comparado['excesso_de_peso_2024'] - df_comparado['excesso_de_peso_2014'])\n",
    "df_comparado = df_comparado.reset_index()"
   ]
  },
  {
   "cell_type": "code",
   "execution_count": 11,
   "metadata": {},
   "outputs": [],
   "source": [
    "df_comparado.sort_values(\"variacao_absoluta\", ascending=False).to_clipboard(decimal=\",\")"
   ]
  },
  {
   "cell_type": "code",
   "execution_count": 12,
   "metadata": {},
   "outputs": [],
   "source": [
    "geojson_path = ibge.malha(\n",
    "    nivel = 'paises',\n",
    "    localidade = 'BR',\n",
    "    divisoes = 'uf',\n",
    "    formato = 'geojson'\n",
    ")"
   ]
  },
  {
   "cell_type": "code",
   "execution_count": 13,
   "metadata": {},
   "outputs": [
    {
     "name": "stdout",
     "output_type": "stream",
     "text": [
      "True\n",
      "False\n",
      "False\n",
      "False\n",
      "False\n",
      "False\n",
      "False\n",
      "False\n",
      "False\n",
      "True\n",
      "True\n",
      "False\n",
      "False\n",
      "False\n",
      "False\n",
      "False\n",
      "False\n",
      "False\n",
      "False\n",
      "False\n",
      "False\n",
      "False\n",
      "False\n",
      "False\n",
      "False\n",
      "False\n",
      "False\n"
     ]
    }
   ],
   "source": [
    "mapa = folium.Map(location=[-14.2350, -51.9253], zoom_start=4, tiles=None)\n",
    "\n",
    "if isinstance(geojson_path, dict):\n",
    "    gdf = gpd.GeoDataFrame.from_features(geojson_path[\"features\"])\n",
    "else:\n",
    "    gdf = gpd.read_file(geojson_path)\n",
    "\n",
    "gdf[\"codarea\"] = gdf[\"codarea\"].astype(int)\n",
    "siglas = {\n",
    "    11: \"RO\", 12: \"AC\", 13: \"AM\", 14: \"RR\", 15: \"PA\", 16: \"AP\", 17: \"TO\",\n",
    "    21: \"MA\", 22: \"PI\", 23: \"CE\", 24: \"RN\", 25: \"PB\", 26: \"PE\", 27: \"AL\", 28: \"SE\", 29: \"BA\",\n",
    "    31: \"MG\", 32: \"ES\", 33: \"RJ\", 35: \"SP\",\n",
    "    41: \"PR\", 42: \"SC\", 43: \"RS\",\n",
    "    50: \"MS\", 51: \"MT\", 52: \"GO\", 53: \"DF\"\n",
    "}\n",
    "gdf[\"sigla\"] = gdf[\"codarea\"].map(siglas)\n",
    "df_comparado[\"variacao_absoluta\"] = df_comparado[\"variacao_absoluta\"] * 100\n",
    "\n",
    "min_val = df_comparado[\"variacao_absoluta\"].min()\n",
    "max_val = df_comparado[\"variacao_absoluta\"].max()\n",
    "\n",
    "colormap = LinearColormap(\n",
    "    colors=[\"#ffffe5\", \"#fee391\", \"#fcae91\", \"#fb6a4a\", \"#de2d26\", \"#a50f15\"],\n",
    "    vmin=min_val,\n",
    "    vmax=max_val,\n",
    "    caption=\"Variação em pontos percentuais\"\n",
    ")\n",
    "colormap.add_to(mapa) \n",
    "\n",
    "def style_function(feature):\n",
    "    cod = int(feature[\"properties\"][\"codarea\"])\n",
    "    row = df_comparado[df_comparado[\"COD\"] == cod]\n",
    "    if not row.empty:\n",
    "        variacao = row.iloc[0][\"variacao_absoluta\"]\n",
    "        color = colormap(variacao)\n",
    "    else:\n",
    "        color = \"white\"  # Quando não há dados, mantém o preenchimento branco\n",
    "\n",
    "    return {\n",
    "        \"fillColor\": color,\n",
    "        \"color\": \"black\",  # Aumenta o contraste da borda para \"black\"\n",
    "        \"weight\": 0.8,  # Aumenta o peso da borda\n",
    "        \"fillOpacity\": 0.7,\n",
    "        \"opacity\": 0.8,  # Aumenta a opacidade para garantir visibilidade\n",
    "    }\n",
    "\n",
    "folium.GeoJson(\n",
    "    geojson_path,\n",
    "    style_function=style_function,\n",
    "    name=\"Variação\"\n",
    ").add_to(mapa)\n",
    "\n",
    "for _, row in gdf.iterrows():\n",
    "    estado_codigo = row[\"codarea\"]\n",
    "    centroide = row.geometry.centroid\n",
    "    variacao_absoluta = df_comparado.loc[df_comparado[\"COD\"] == estado_codigo, \"variacao_absoluta\"]\n",
    "    \n",
    "    if not variacao_absoluta.empty:\n",
    "        variacao_valor = round(variacao_absoluta.values[0], 0)\n",
    "        sigla_estado = row[\"sigla\"]\n",
    "        sinal = \"+\" if variacao_valor > 0 else \"\"\n",
    "        texto_variacao = f\"{sinal}{int(variacao_valor)}pp\"\n",
    "\n",
    "        if sigla_estado == \"RN\":\n",
    "            centroide_y = centroide.y + 0.4\n",
    "            centroide_x = centroide.x\n",
    "        elif sigla_estado == \"AL\":\n",
    "            centroide_y = centroide.y\n",
    "            centroide_x = centroide.x + 0.8  \n",
    "        elif sigla_estado == \"PB\":\n",
    "            centroide_y = centroide.y\n",
    "            centroide_x = centroide.x + 0.8  \n",
    "        else:\n",
    "            centroide_y = centroide.y\n",
    "            centroide_x = centroide.x\n",
    "\n",
    "        destaque = abs(variacao_valor) >= 10\n",
    "        print(destaque)\n",
    "        cor_texto = \"red\" if destaque else \"black\"\n",
    "        tamanho = \"13px\" if destaque else \"13px\"\n",
    "\n",
    "        folium.Marker(\n",
    "            location=[centroide_y, centroide_x],\n",
    "            icon=folium.DivIcon(html=f\"\"\"\n",
    "                <div style=\"font-size: {tamanho}; font-weight: bold; color: {cor_texto}; \n",
    "                            background-color: rgba(255, 255, 255, 0.9); \n",
    "                            padding: 2px 6px; border-radius: 6px; \n",
    "                            min-width: 50px; text-align: center;\">\n",
    "                    {sigla_estado}<br>{texto_variacao}\n",
    "                </div>\n",
    "            \"\"\")\n",
    "        ).add_to(mapa)\n",
    "titulo_html = \"\"\"\n",
    "<div style=\"\n",
    "    position: fixed; \n",
    "    top: 10px; left: 50%; \n",
    "    transform: translateX(-50%);\n",
    "    z-index: 9999; \n",
    "    background-color: white; \n",
    "    padding: 10px; \n",
    "    border-radius: 8px;\n",
    "    font-size: 18px; \n",
    "    font-weight: bold;\n",
    "    box-shadow: 0 0 5px rgba(0,0,0,0.2);\n",
    "\">\n",
    "        Variação em pontos percentuais do excesso de peso em adolescentes no Brasil (2014–2024)\n",
    "\n",
    "</div>\n",
    "\"\"\"\n",
    "mapa.get_root().html.add_child(folium.Element(titulo_html))\n",
    "mapa.get_root().html.add_child(folium.Element(\"\"\"\n",
    "    <style>\n",
    "        .legend {\n",
    "            position: fixed !important;\n",
    "            top: 50px !important;\n",
    "            left: 50% !important;\n",
    "            transform: translateX(-50%);\n",
    "            z-index: 9998;\n",
    "        }\n",
    "    </style>\n",
    "\"\"\"))\n",
    "mapa.get_root().html.add_child(folium.Element(\"\"\"\n",
    "    <style>\n",
    "        html, body {\n",
    "            background-color: white !important;\n",
    "            height: 100%;\n",
    "            margin: 0;\n",
    "        }\n",
    "        .folium-map { background: white; }\n",
    "        #map { height: 100%; }\n",
    "    </style>\n",
    "\"\"\"))\n",
    "\n",
    "mapa.save(\"mapa_com_siglas.html\")"
   ]
  },
  {
   "cell_type": "markdown",
   "metadata": {},
   "source": [
    "#### Análise região urbana e rural"
   ]
  },
  {
   "cell_type": "code",
   "execution_count": 14,
   "metadata": {},
   "outputs": [
    {
     "data": {
      "text/html": [
       "<div>\n",
       "<style scoped>\n",
       "    .dataframe tbody tr th:only-of-type {\n",
       "        vertical-align: middle;\n",
       "    }\n",
       "\n",
       "    .dataframe tbody tr th {\n",
       "        vertical-align: top;\n",
       "    }\n",
       "\n",
       "    .dataframe thead th {\n",
       "        text-align: right;\n",
       "    }\n",
       "</style>\n",
       "<table border=\"1\" class=\"dataframe\">\n",
       "  <thead>\n",
       "    <tr style=\"text-align: right;\">\n",
       "      <th></th>\n",
       "      <th>NM_UF</th>\n",
       "      <th>SIG_UF</th>\n",
       "      <th>CD_GCMUN</th>\n",
       "      <th>NM_MUN</th>\n",
       "      <th>TIPO</th>\n",
       "    </tr>\n",
       "  </thead>\n",
       "  <tbody>\n",
       "    <tr>\n",
       "      <th>5564</th>\n",
       "      <td>Distrito Federal</td>\n",
       "      <td>DF</td>\n",
       "      <td>5300108</td>\n",
       "      <td>Brasília</td>\n",
       "      <td>Urbano</td>\n",
       "    </tr>\n",
       "  </tbody>\n",
       "</table>\n",
       "</div>"
      ],
      "text/plain": [
       "                 NM_UF SIG_UF  CD_GCMUN    NM_MUN    TIPO\n",
       "5564  Distrito Federal     DF   5300108  Brasília  Urbano"
      ]
     },
     "execution_count": 14,
     "metadata": {},
     "output_type": "execute_result"
    }
   ],
   "source": [
    "tipologia_municipal = pd.read_excel(\"../../tipologia_rural_ou_urbano.xlsx\")\n",
    "tipologia_municipal.query(\"NM_MUN == 'Brasília'\")"
   ]
  },
  {
   "cell_type": "code",
   "execution_count": 15,
   "metadata": {},
   "outputs": [
    {
     "ename": "NameError",
     "evalue": "name 'df_merge_completo' is not defined",
     "output_type": "error",
     "traceback": [
      "\u001b[0;31m---------------------------------------------------------------------------\u001b[0m",
      "\u001b[0;31mNameError\u001b[0m                                 Traceback (most recent call last)",
      "Cell \u001b[0;32mIn[15], line 1\u001b[0m\n\u001b[0;32m----> 1\u001b[0m \u001b[38;5;28mlen\u001b[39m(df_merge_completo)\n",
      "\u001b[0;31mNameError\u001b[0m: name 'df_merge_completo' is not defined"
     ]
    }
   ],
   "source": [
    "len(df_merge_completo)"
   ]
  },
  {
   "cell_type": "code",
   "execution_count": null,
   "metadata": {},
   "outputs": [
    {
     "data": {
      "text/html": [
       "<div>\n",
       "<style scoped>\n",
       "    .dataframe tbody tr th:only-of-type {\n",
       "        vertical-align: middle;\n",
       "    }\n",
       "\n",
       "    .dataframe tbody tr th {\n",
       "        vertical-align: top;\n",
       "    }\n",
       "\n",
       "    .dataframe thead th {\n",
       "        text-align: right;\n",
       "    }\n",
       "</style>\n",
       "<table border=\"1\" class=\"dataframe\">\n",
       "  <thead>\n",
       "    <tr style=\"text-align: right;\">\n",
       "      <th></th>\n",
       "      <th>Unnamed: 0</th>\n",
       "      <th>cod_uf</th>\n",
       "      <th>codigo_municipio_ibge</th>\n",
       "      <th>nome_municipio</th>\n",
       "      <th>codigo_municipio_ibge_novo</th>\n",
       "      <th>nome_uf</th>\n",
       "      <th>uf</th>\n",
       "      <th>regiao</th>\n",
       "    </tr>\n",
       "  </thead>\n",
       "  <tbody>\n",
       "    <tr>\n",
       "      <th>5569</th>\n",
       "      <td>5569</td>\n",
       "      <td>53</td>\n",
       "      <td>5300108</td>\n",
       "      <td>Brasília</td>\n",
       "      <td>530010</td>\n",
       "      <td>Distrito Federal</td>\n",
       "      <td>DF</td>\n",
       "      <td>Centro-Oeste</td>\n",
       "    </tr>\n",
       "  </tbody>\n",
       "</table>\n",
       "</div>"
      ],
      "text/plain": [
       "      Unnamed: 0  cod_uf  codigo_municipio_ibge nome_municipio  \\\n",
       "5569        5569      53                5300108       Brasília   \n",
       "\n",
       "      codigo_municipio_ibge_novo           nome_uf  uf        regiao  \n",
       "5569                      530010  Distrito Federal  DF  Centro-Oeste  "
      ]
     },
     "execution_count": 55,
     "metadata": {},
     "output_type": "execute_result"
    }
   ],
   "source": [
    "municipios_cod = pd.read_csv(\"../../municipios_regioes.csv\")\n",
    "municipios_cod.query(\"nome_municipio == 'Brasília'\")"
   ]
  },
  {
   "cell_type": "code",
   "execution_count": null,
   "metadata": {},
   "outputs": [],
   "source": [
    "df_merge = pd.merge(municipios_cod, tipologia_municipal, left_on='codigo_municipio_ibge', right_on='CD_GCMUN')\n",
    "df_merge = df_merge[['cod_uf', 'nome_uf', 'uf', 'codigo_municipio_ibge', 'nome_municipio', 'codigo_municipio_ibge_novo', 'TIPO']]"
   ]
  },
  {
   "cell_type": "code",
   "execution_count": null,
   "metadata": {},
   "outputs": [],
   "source": [
    "df = df.query(\"codigo_ibge != 'Código IBGE' and ano == 2024\")\n",
    "df_municipios = df[df['municipio'].notnull()]"
   ]
  },
  {
   "cell_type": "code",
   "execution_count": null,
   "metadata": {},
   "outputs": [],
   "source": [
    "df_municipios['codigo_ibge'] = df_municipios['codigo_ibge'].astype('int')\n",
    "df_merge['codigo_municipio_ibge_novo'] = df_merge['codigo_municipio_ibge_novo'].astype('int')"
   ]
  },
  {
   "cell_type": "code",
   "execution_count": null,
   "metadata": {},
   "outputs": [],
   "source": [
    "df_merge_completo = pd.merge(df_municipios, df_merge, left_on='codigo_ibge', right_on='codigo_municipio_ibge_novo')"
   ]
  },
  {
   "cell_type": "code",
   "execution_count": null,
   "metadata": {},
   "outputs": [],
   "source": [
    "colunas_para_converter = ['perc_magreza_acentuada', 'perc_magreza', 'perc_eutrofia', 'perc_sobrepeso', 'perc_obesidade', 'perc_obesidade_grave'] \n",
    "\n",
    "for coluna in colunas_para_converter:\n",
    "    df_merge_completo[coluna] = pd.to_numeric(df_merge_completo[coluna], errors='coerce') \n",
    "    #df_merge_completo[coluna] = df_merge_completo[coluna] / 100 \n",
    "\n",
    "df_merge_completo['excesso_de_peso'] = (df_merge_completo['perc_sobrepeso'] + df_merge_completo['perc_obesidade'] + df_merge_completo['perc_obesidade_grave']) "
   ]
  },
  {
   "cell_type": "code",
   "execution_count": null,
   "metadata": {},
   "outputs": [
    {
     "data": {
      "text/html": [
       "<div>\n",
       "<style scoped>\n",
       "    .dataframe tbody tr th:only-of-type {\n",
       "        vertical-align: middle;\n",
       "    }\n",
       "\n",
       "    .dataframe tbody tr th {\n",
       "        vertical-align: top;\n",
       "    }\n",
       "\n",
       "    .dataframe thead th {\n",
       "        text-align: right;\n",
       "    }\n",
       "</style>\n",
       "<table border=\"1\" class=\"dataframe\">\n",
       "  <thead>\n",
       "    <tr style=\"text-align: right;\">\n",
       "      <th></th>\n",
       "      <th>regiao</th>\n",
       "      <th>codigo_uf</th>\n",
       "      <th>nome_uf</th>\n",
       "      <th>municipio</th>\n",
       "      <th>TIPO</th>\n",
       "      <th>excesso_de_peso</th>\n",
       "    </tr>\n",
       "  </thead>\n",
       "  <tbody>\n",
       "    <tr>\n",
       "      <th>5320</th>\n",
       "      <td>SUL</td>\n",
       "      <td>42.0</td>\n",
       "      <td>Santa Catarina</td>\n",
       "      <td>BRUSQUE</td>\n",
       "      <td>Urbano</td>\n",
       "      <td>0.3479</td>\n",
       "    </tr>\n",
       "  </tbody>\n",
       "</table>\n",
       "</div>"
      ],
      "text/plain": [
       "     regiao  codigo_uf         nome_uf municipio    TIPO  excesso_de_peso\n",
       "5320    SUL       42.0  Santa Catarina   BRUSQUE  Urbano           0.3479"
      ]
     },
     "execution_count": 64,
     "metadata": {},
     "output_type": "execute_result"
    }
   ],
   "source": [
    "df_merge_completo = df_merge_completo[['regiao', 'codigo_uf', 'nome_uf','municipio', 'TIPO', 'excesso_de_peso']]\n",
    "df_merge_completo.query(\"municipio == 'BRUSQUE'\")"
   ]
  },
  {
   "cell_type": "code",
   "execution_count": null,
   "metadata": {},
   "outputs": [
    {
     "data": {
      "text/plain": [
       "686"
      ]
     },
     "execution_count": 75,
     "metadata": {},
     "output_type": "execute_result"
    }
   ],
   "source": [
    "len(df_merge_completo.query(\"TIPO == 'IntermediarioAdjacente'\"))"
   ]
  },
  {
   "cell_type": "code",
   "execution_count": null,
   "metadata": {},
   "outputs": [],
   "source": [
    "media_obesidade = df_merge_completo.groupby('TIPO').agg(\n",
    "    media_excesso_peso=('excesso_de_peso', 'mean'),\n",
    "    quantidade_municipios=('municipio', 'nunique')  \n",
    ").reset_index()\n",
    "\n",
    "media_obesidade.to_clipboard(decimal=\",\")\n"
   ]
  },
  {
   "cell_type": "code",
   "execution_count": null,
   "metadata": {},
   "outputs": [
    {
     "data": {
      "image/png": "[encoded data removed]",
      "text/plain": [
       "<Figure size 1000x500 with 1 Axes>"
      ]
     },
     "metadata": {},
     "output_type": "display_data"
    }
   ],
   "source": [
    "nomes_formatados = {\n",
    "    'Urbano': 'Urbano',\n",
    "    'RuralAdjacente': 'Rural adjacente',\n",
    "    'IntermediarioAdjacente': 'Intermediário adjacente',\n",
    "    'IntermediarioRemoto': 'Intermediário remoto',\n",
    "    'RuralRemoto': 'Rural remoto'\n",
    "}\n",
    "\n",
    "media_obesidade = df_merge_completo.groupby('TIPO')['excesso_de_peso'].mean().reset_index()\n",
    "media_obesidade['TIPO_FORMATADA'] = media_obesidade['TIPO'].map(nomes_formatados)\n",
    "media_obesidade = media_obesidade.sort_values(by='excesso_de_peso', ascending=False)\n",
    "cat_colors = [\"#114354\", \"#1F7A99\", \"#2EA6BC\", \"#81CBD3\", \"#632F21\", \"#9C462F\", \"#E95F3A\", \"#EF8264\"]\n",
    "plt.figure(figsize=(10, 5))\n",
    "bars = plt.bar(\n",
    "    media_obesidade['TIPO_FORMATADA'], \n",
    "    media_obesidade['excesso_de_peso'], \n",
    "    color=['#632F21', '#114354', '#E95F3A', \"#9C462F\", \"#EF8264\"]\n",
    ")\n",
    "\n",
    "plt.title('Percentual médio de excesso de peso em adolescentes por tipologia do município (2024)')\n",
    "plt.ylabel('Percentual médio de excesso de peso (%)')\n",
    "plt.xlabel('Tipologia do município')\n",
    "plt.bar_label(bars, fmt='%.2f%%')\n",
    "plt.xticks()\n",
    "plt.figtext(0.01, -0.02, \"Fonte: Sistema de Vigilância Alimentar e Nutricional (SISVAN) e IBGE.\", ha=\"left\", fontsize=10)\n",
    "plt.tight_layout(rect=[0, 0.05, 1, 0.95])\n",
    "plt.show()\n"
   ]
  },
  {
   "cell_type": "code",
   "execution_count": null,
   "metadata": {},
   "outputs": [
    {
     "data": {
      "text/html": [
       "<div>\n",
       "<style scoped>\n",
       "    .dataframe tbody tr th:only-of-type {\n",
       "        vertical-align: middle;\n",
       "    }\n",
       "\n",
       "    .dataframe tbody tr th {\n",
       "        vertical-align: top;\n",
       "    }\n",
       "\n",
       "    .dataframe thead th {\n",
       "        text-align: right;\n",
       "    }\n",
       "</style>\n",
       "<table border=\"1\" class=\"dataframe\">\n",
       "  <thead>\n",
       "    <tr style=\"text-align: right;\">\n",
       "      <th></th>\n",
       "      <th>municipio</th>\n",
       "      <th>TIPO</th>\n",
       "      <th>excesso_de_peso</th>\n",
       "    </tr>\n",
       "  </thead>\n",
       "  <tbody>\n",
       "    <tr>\n",
       "      <th>0</th>\n",
       "      <td>BRASILIA</td>\n",
       "      <td>Urbano</td>\n",
       "      <td>27.86</td>\n",
       "    </tr>\n",
       "    <tr>\n",
       "      <th>1</th>\n",
       "      <td>ABADIA DE GOIAS</td>\n",
       "      <td>Urbano</td>\n",
       "      <td>32.87</td>\n",
       "    </tr>\n",
       "    <tr>\n",
       "      <th>2</th>\n",
       "      <td>ABADIANIA</td>\n",
       "      <td>RuralAdjacente</td>\n",
       "      <td>32.94</td>\n",
       "    </tr>\n",
       "    <tr>\n",
       "      <th>3</th>\n",
       "      <td>ACREUNA</td>\n",
       "      <td>Urbano</td>\n",
       "      <td>37.86</td>\n",
       "    </tr>\n",
       "    <tr>\n",
       "      <th>4</th>\n",
       "      <td>ADELANDIA</td>\n",
       "      <td>RuralAdjacente</td>\n",
       "      <td>40.01</td>\n",
       "    </tr>\n",
       "  </tbody>\n",
       "</table>\n",
       "</div>"
      ],
      "text/plain": [
       "         municipio            TIPO  excesso_de_peso\n",
       "0         BRASILIA          Urbano            27.86\n",
       "1  ABADIA DE GOIAS          Urbano            32.87\n",
       "2        ABADIANIA  RuralAdjacente            32.94\n",
       "3          ACREUNA          Urbano            37.86\n",
       "4        ADELANDIA  RuralAdjacente            40.01"
      ]
     },
     "execution_count": 24,
     "metadata": {},
     "output_type": "execute_result"
    }
   ],
   "source": [
    "df_base_final = df_merge_completo[['municipio', 'TIPO', 'excesso_de_peso']]\n",
    "df_base_final.head()"
   ]
  },
  {
   "cell_type": "code",
   "execution_count": null,
   "metadata": {},
   "outputs": [],
   "source": [
    "df_base_final = df_base_final.dropna(subset=['excesso_de_peso', 'TIPO'])"
   ]
  },
  {
   "cell_type": "code",
   "execution_count": null,
   "metadata": {},
   "outputs": [
    {
     "name": "stdout",
     "output_type": "stream",
     "text": [
      "                            OLS Regression Results                            \n",
      "==============================================================================\n",
      "Dep. Variable:        excesso_de_peso   R-squared:                       0.064\n",
      "Model:                            OLS   Adj. R-squared:                  0.063\n",
      "Method:                 Least Squares   F-statistic:                     94.08\n",
      "Date:                Sun, 13 Apr 2025   Prob (F-statistic):           1.61e-77\n",
      "Time:                        17:04:11   Log-Likelihood:                -17960.\n",
      "No. Observations:                5505   AIC:                         3.593e+04\n",
      "Df Residuals:                    5500   BIC:                         3.596e+04\n",
      "Df Model:                           4                                         \n",
      "Covariance Type:            nonrobust                                         \n",
      "=======================================================================================\n",
      "                          coef    std err          t      P>|t|      [0.025      0.975]\n",
      "---------------------------------------------------------------------------------------\n",
      "const                  33.3356      0.242    137.809      0.000      32.861      33.810\n",
      "IntermediarioRemoto    -4.7662      0.851     -5.599      0.000      -6.435      -3.097\n",
      "RuralAdjacente         -0.8747      0.268     -3.263      0.001      -1.400      -0.349\n",
      "RuralRemoto            -6.0084      0.430    -13.970      0.000      -6.852      -5.165\n",
      "Urbano                  1.1187      0.293      3.813      0.000       0.544       1.694\n",
      "==============================================================================\n",
      "Omnibus:                      389.605   Durbin-Watson:                   1.069\n",
      "Prob(Omnibus):                  0.000   Jarque-Bera (JB):              723.625\n",
      "Skew:                           0.509   Prob(JB):                    7.36e-158\n",
      "Kurtosis:                       4.456   Cond. No.                         12.1\n",
      "==============================================================================\n",
      "\n",
      "Notes:\n",
      "[1] Standard Errors assume that the covariance matrix of the errors is correctly specified.\n"
     ]
    }
   ],
   "source": [
    "dummies = pd.get_dummies(df_base_final['TIPO'], drop_first=True)\n",
    "dummies = dummies.astype(float)\n",
    "\n",
    "X = pd.concat([dummies], axis=1)\n",
    "y = df_base_final['excesso_de_peso'].astype(float)\n",
    "X = sm.add_constant(X)\n",
    "modelo = sm.OLS(y, X).fit()\n",
    "print(modelo.summary())"
   ]
  }
 ],
 "metadata": {
  "kernelspec": {
   "display_name": "base",
   "language": "python",
   "name": "python3"
  },
  "language_info": {
   "codemirror_mode": {
    "name": "ipython",
    "version": 3
   },
   "file_extension": ".py",
   "mimetype": "text/x-python",
   "name": "python",
   "nbconvert_exporter": "python",
   "pygments_lexer": "ipython3",
   "version": "3.11.4"
  }
 },
 "nbformat": 4,
 "nbformat_minor": 2
}
