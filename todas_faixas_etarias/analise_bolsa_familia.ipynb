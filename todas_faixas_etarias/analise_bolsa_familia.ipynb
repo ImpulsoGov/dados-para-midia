{
 "cells": [
  {
   "cell_type": "code",
   "execution_count": 2,
   "metadata": {},
   "outputs": [
    {
     "name": "stderr",
     "output_type": "stream",
     "text": [
      "/Users/juliasbardelatti/anaconda3/lib/python3.11/site-packages/pandas/core/arrays/masked.py:60: UserWarning: Pandas requires version '1.3.6' or newer of 'bottleneck' (version '1.3.5' currently installed).\n",
      "  from pandas.core import (\n"
     ]
    }
   ],
   "source": [
    "import pandas as pd\n",
    "import matplotlib.pyplot as plt\n",
    "import seaborn as sns"
   ]
  },
  {
   "cell_type": "code",
   "execution_count": 3,
   "metadata": {},
   "outputs": [],
   "source": [
    "raca_0_ate_5_anos = pd.read_csv(\"../0_ate_5/bolsa_familia/bolsa_familia.csv\")\n",
    "raca_0_ate_5_anos['faixa_etaria'] = '0 a 5 anos'\n",
    "\n",
    "raca_5_ate_10_anos = pd.read_csv(\"../5_ate_10/bolsa_familia/bolsa_familia.csv\")\n",
    "raca_5_ate_10_anos['faixa_etaria'] = '5 a 10 anos'\n",
    "\n",
    "raca_adolescente = pd.read_csv(\"../adolescente/bolsa_familia/bolsa_familia.csv\")\n",
    "raca_adolescente['faixa_etaria'] = 'Adolescentes (10 a 18 anos)'\n",
    "\n",
    "df_completo = pd.concat([raca_0_ate_5_anos, raca_5_ate_10_anos, raca_adolescente])\n"
   ]
  },
  {
   "cell_type": "code",
   "execution_count": 4,
   "metadata": {},
   "outputs": [],
   "source": [
    "df_completo['total'] = df_completo['total'].astype(str).str.replace('.', '', regex=True)\n",
    "df_completo['total'] = pd.to_numeric(df_completo['total'], errors='coerce')"
   ]
  },
  {
   "cell_type": "code",
   "execution_count": 5,
   "metadata": {},
   "outputs": [],
   "source": [
    "colunas_para_converter = ['qtd_magreza_acentuada', 'qtd_magreza', 'qtd_eutrofia', 'qtd_risco_sobrepeso', 'qtd_sobrepeso', 'qtd_obesidade'] \n",
    "\n",
    "for coluna in colunas_para_converter:\n",
    "    df_completo[coluna] = df_completo[coluna].astype(str).str.strip()  \n",
    "    df_completo[coluna] = df_completo[coluna].str.replace(r'\\.', '', regex=True)  \n",
    "    df_completo[coluna] = pd.to_numeric(df_completo[coluna], errors='coerce') "
   ]
  },
  {
   "cell_type": "code",
   "execution_count": 6,
   "metadata": {},
   "outputs": [
    {
     "data": {
      "text/plain": [
       "array(['TOTAL BRASIL', 'TOTAL REGIÃO CENTRO-OESTE',\n",
       "       'TOTAL REGIÃO NORDESTE', 'TOTAL REGIÃO NORTE',\n",
       "       'TOTAL REGIÃO SUDESTE', 'TOTAL REGIÃO SUL'], dtype=object)"
      ]
     },
     "execution_count": 6,
     "metadata": {},
     "output_type": "execute_result"
    }
   ],
   "source": [
    "colunas_para_somar = ['qtd_magreza_acentuada', 'qtd_magreza', 'qtd_eutrofia', 'qtd_risco_sobrepeso', 'qtd_sobrepeso', 'qtd_obesidade'] \n",
    "df_completo = df_completo[df_completo['regiao'].str.startswith(('TOTAL REGIÃO', 'TOTAL BRASIL'), na=False)]\n",
    "df_grouped = df_completo.groupby(['regiao', 'ano'])[colunas_para_somar].sum().reset_index()\n",
    "df_grouped['regiao'].unique()"
   ]
  },
  {
   "cell_type": "code",
   "execution_count": 7,
   "metadata": {},
   "outputs": [],
   "source": [
    "\n",
    "df_grouped['total'] = df_grouped[colunas_para_somar].sum(axis=1)\n",
    "for coluna in colunas_para_somar:\n",
    "    df_grouped[f'{coluna}_perc'] = (df_grouped[coluna] / df_grouped['total']) \n"
   ]
  },
  {
   "cell_type": "code",
   "execution_count": 8,
   "metadata": {},
   "outputs": [],
   "source": [
    "df_grouped['perc_total_obesidade'] = df_grouped['qtd_sobrepeso_perc'] + df_grouped['qtd_obesidade_perc']"
   ]
  },
  {
   "cell_type": "code",
   "execution_count": 9,
   "metadata": {},
   "outputs": [],
   "source": [
    "df_grouped = df_grouped[['regiao', 'perc_total_obesidade', 'ano']]\n",
    "\n",
    "mapeamento = {\n",
    "    'TOTAL REGIÃO CENTRO-OESTE': 'Centro-oeste',\n",
    "    'TOTAL REGIÃO NORDESTE': 'Nordeste',\n",
    "    'TOTAL REGIÃO NORTE': 'Norte',\n",
    "    'TOTAL REGIÃO SUDESTE': 'Sudeste',\n",
    "    'TOTAL REGIÃO SUL': 'Sul',\n",
    "    'TOTAL BRASIL': 'Total Brasil'\n",
    "}\n",
    "\n",
    "df_grouped['regiao'] = df_grouped['regiao'].replace(mapeamento)"
   ]
  }
 ],
 "metadata": {
  "kernelspec": {
   "display_name": "base",
   "language": "python",
   "name": "python3"
  },
  "language_info": {
   "codemirror_mode": {
    "name": "ipython",
    "version": 3
   },
   "file_extension": ".py",
   "mimetype": "text/x-python",
   "name": "python",
   "nbconvert_exporter": "python",
   "pygments_lexer": "ipython3",
   "version": "3.11.4"
  }
 },
 "nbformat": 4,
 "nbformat_minor": 2
}
